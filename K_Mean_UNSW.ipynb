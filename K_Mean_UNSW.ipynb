{
  "nbformat": 4,
  "nbformat_minor": 0,
  "metadata": {
    "colab": {
      "name": "K-Mean_UNSW.ipynb",
      "provenance": [],
      "collapsed_sections": [],
      "mount_file_id": "1Q7bKhPlJi3oiaVeeAWuQeRQUMmLQZvnd",
      "authorship_tag": "ABX9TyMO1ezgdbvTf5/+08OK+HvZ",
      "include_colab_link": true
    },
    "kernelspec": {
      "name": "python3",
      "display_name": "Python 3"
    }
  },
  "cells": [
    {
      "cell_type": "markdown",
      "metadata": {
        "id": "view-in-github",
        "colab_type": "text"
      },
      "source": [
        "<a href=\"https://colab.research.google.com/github/Lasitha-Jayawardana/IDS/blob/main/K_Mean_UNSW.ipynb\" target=\"_parent\"><img src=\"https://colab.research.google.com/assets/colab-badge.svg\" alt=\"Open In Colab\"/></a>"
      ]
    },
    {
      "cell_type": "code",
      "metadata": {
        "id": "gWVoqGBK64T7"
      },
      "source": [
        "import numpy as np\n",
        "import pandas as pd\n",
        "\n",
        "import matplotlib.pyplot as plt\n",
        "from sklearn.decomposition import PCA\n",
        "import seaborn as sns\n",
        "from sklearn.model_selection import train_test_split\n",
        "from sklearn.preprocessing import StandardScaler\n",
        "from sklearn.preprocessing import MinMaxScaler\n",
        "from sklearn.preprocessing import OneHotEncoder\n",
        "from sklearn.preprocessing import LabelEncoder\n",
        "from sklearn.compose import make_column_transformer\n",
        "from sklearn.pipeline import make_pipeline\n",
        "from sklearn.model_selection import cross_val_score\n",
        "from sklearn.metrics import confusion_matrix\n",
        "from sklearn.metrics import classification_report\n",
        "from sklearn.metrics import accuracy_score\n",
        "from sklearn.model_selection import GridSearchCV\n",
        "import math\n",
        "from sklearn.cluster import KMeans\n",
        "# To change scientific numbers to float\n",
        "np.set_printoptions(formatter={'float_kind':'{:f}'.format})\n",
        "from sklearn.model_selection import GridSearchCV, cross_val_score,train_test_split\n",
        "from sklearn.metrics import accuracy_score, precision_score, recall_score, classification_report, confusion_matrix,f1_score\n"
      ],
      "execution_count": 1,
      "outputs": []
    },
    {
      "cell_type": "code",
      "metadata": {
        "id": "MUM4zgqK8ssa",
        "colab": {
          "base_uri": "https://localhost:8080/"
        },
        "outputId": "dc0f8d1d-8f9a-4bc0-b93f-f566d7d46a7c"
      },
      "source": [
        "df_train = pd.read_csv('/content/drive/MyDrive/Colab Notebooks/IDS Project//UNSW_NB15_training-set.csv')\n",
        "df_test = pd.read_csv('/content/drive/MyDrive/Colab Notebooks/IDS Project//UNSW_NB15_testing-set.csv')\n",
        "\n",
        "for col in ['proto','service','state']:\n",
        "  df_train[col] = df_train[col].astype('category')\n",
        "  df_test[col] = df_test[col].astype('category')\n",
        "df_train.drop_duplicates(keep='first',inplace=True)\n",
        "df_test.drop_duplicates(keep='first',inplace=True)\n",
        "\n",
        "print('Train set shape:',df_train.shape)\n",
        "print('Test set shape:',df_test.shape)\n",
        "print('Train',len(df_train['proto'].unique()))\n",
        "print('Test',len(df_test['proto'].unique()))\n",
        "print('=======================================')\n",
        "print('Train',len(df_train['service'].unique()))\n",
        "print('Test',len(df_test['service'].unique()))\n",
        "print('=======================================')\n",
        "print('Train',len(df_train['state'].unique()))\n",
        "print('Test',len(df_test['state'].unique()))\n"
      ],
      "execution_count": 2,
      "outputs": [
        {
          "output_type": "stream",
          "text": [
            "Train set shape: (175341, 45)\n",
            "Test set shape: (82332, 45)\n",
            "Train 133\n",
            "Test 131\n",
            "=======================================\n",
            "Train 13\n",
            "Test 13\n",
            "=======================================\n",
            "Train 9\n",
            "Test 7\n"
          ],
          "name": "stdout"
        }
      ]
    },
    {
      "cell_type": "code",
      "metadata": {
        "id": "ovcBzj9f50yf"
      },
      "source": [
        "df_train=df_train.drop(columns='id')\r\n",
        "df_test=df_test.drop(columns='id')"
      ],
      "execution_count": 3,
      "outputs": []
    },
    {
      "cell_type": "code",
      "metadata": {
        "colab": {
          "base_uri": "https://localhost:8080/"
        },
        "id": "FWzL2Oxtup8T",
        "outputId": "7b5dcbf7-7458-460d-9d0f-fbb00cb5c610"
      },
      "source": [
        "df_train.columns"
      ],
      "execution_count": 13,
      "outputs": [
        {
          "output_type": "execute_result",
          "data": {
            "text/plain": [
              "Index(['dur', 'proto', 'service', 'state', 'spkts', 'dpkts', 'sbytes',\n",
              "       'dbytes', 'rate', 'sttl', 'dttl', 'sload', 'dload', 'sloss', 'dloss',\n",
              "       'sinpkt', 'dinpkt', 'sjit', 'djit', 'swin', 'stcpb', 'dtcpb', 'dwin',\n",
              "       'tcprtt', 'synack', 'ackdat', 'smean', 'dmean', 'trans_depth',\n",
              "       'response_body_len', 'ct_srv_src', 'ct_state_ttl', 'ct_dst_ltm',\n",
              "       'ct_src_dport_ltm', 'ct_dst_sport_ltm', 'ct_dst_src_ltm',\n",
              "       'is_ftp_login', 'ct_ftp_cmd', 'ct_flw_http_mthd', 'ct_src_ltm',\n",
              "       'ct_srv_dst', 'is_sm_ips_ports', 'attack_cat', 'label'],\n",
              "      dtype='object')"
            ]
          },
          "metadata": {
            "tags": []
          },
          "execution_count": 13
        }
      ]
    },
    {
      "cell_type": "code",
      "metadata": {
        "colab": {
          "base_uri": "https://localhost:8080/"
        },
        "id": "gRtNmujcmxXO",
        "outputId": "f5ddda6b-b993-47a5-841c-6fee916fcaf8"
      },
      "source": [
        "df_train.groupby('attack_cat')['attack_cat'].count()"
      ],
      "execution_count": 50,
      "outputs": [
        {
          "output_type": "execute_result",
          "data": {
            "text/plain": [
              "attack_cat\n",
              "Analysis           2000\n",
              "Backdoor           1746\n",
              "DoS               12264\n",
              "Exploits          33393\n",
              "Fuzzers           18184\n",
              "Generic           40000\n",
              "Normal            56000\n",
              "Reconnaissance    10491\n",
              "Shellcode          1133\n",
              "Worms               130\n",
              "Name: attack_cat, dtype: int64"
            ]
          },
          "metadata": {
            "tags": []
          },
          "execution_count": 50
        }
      ]
    },
    {
      "cell_type": "code",
      "metadata": {
        "colab": {
          "base_uri": "https://localhost:8080/"
        },
        "id": "FTiXv50MvSBq",
        "outputId": "7f82dba6-3f97-4a71-cf2a-241f59d0a14e"
      },
      "source": [
        "df_train[df_train['label'] == 0].groupby('attack_cat')['attack_cat'].count()"
      ],
      "execution_count": 5,
      "outputs": [
        {
          "output_type": "execute_result",
          "data": {
            "text/plain": [
              "attack_cat\n",
              "Normal    56000\n",
              "Name: attack_cat, dtype: int64"
            ]
          },
          "metadata": {
            "tags": []
          },
          "execution_count": 5
        }
      ]
    },
    {
      "cell_type": "code",
      "metadata": {
        "id": "a0d9QY0AmQVE"
      },
      "source": [
        "# Class count\r\n",
        "count_class_0, count_class_1 = df_train['label'].value_counts()\r\n",
        "\r\n",
        "# Divide by class\r\n",
        "df_class_1= df_train[df_train['label'] == 0]\r\n",
        "df_class_0 = df_train[df_train['label'] == 1]\r\n",
        "    \r\n",
        "df_class_0_under = df_class_0.sample(count_class_1)\r\n",
        "df_train = pd.concat([df_class_0_under, df_class_1], axis=0)\r\n",
        "df_train.reset_index(drop=True,inplace=True)\r\n",
        "df_test.reset_index(drop=True,inplace=True)"
      ],
      "execution_count": 28,
      "outputs": []
    },
    {
      "cell_type": "code",
      "metadata": {
        "colab": {
          "base_uri": "https://localhost:8080/"
        },
        "id": "R0LtbUtNm08k",
        "outputId": "a99400f0-c7e4-4153-a10b-16b94b6081e7"
      },
      "source": [
        "df_train.groupby('label')['label'].count()"
      ],
      "execution_count": 6,
      "outputs": [
        {
          "output_type": "execute_result",
          "data": {
            "text/plain": [
              "label\n",
              "0     56000\n",
              "1    119341\n",
              "Name: label, dtype: int64"
            ]
          },
          "metadata": {
            "tags": []
          },
          "execution_count": 6
        }
      ]
    },
    {
      "cell_type": "code",
      "metadata": {
        "id": "eswWmlZ73YxG"
      },
      "source": [
        ""
      ],
      "execution_count": null,
      "outputs": []
    },
    {
      "cell_type": "code",
      "metadata": {
        "id": "vbqbssLkl47d"
      },
      "source": [
        "limit1 = df_train.shape[1]-1\r\n",
        "    \r\n",
        "X_train = df_train.iloc[:,0:limit1-1] # train set features\r\n",
        "Y_train = df_train.iloc[:,limit1]\r\n",
        "    \r\n",
        "limit2 = df_test.shape[1]-1\r\n",
        "    \r\n",
        "X_test = df_test.iloc[:,0:limit2-1] # test set features\r\n",
        "Y_test = df_test.iloc[:,limit2]"
      ],
      "execution_count": 4,
      "outputs": []
    },
    {
      "cell_type": "code",
      "metadata": {
        "colab": {
          "base_uri": "https://localhost:8080/"
        },
        "id": "qDfTOmOj2hXy",
        "outputId": "1ac86da8-fc4b-40d3-c322-9f2496a349dc"
      },
      "source": [
        "Y_train"
      ],
      "execution_count": 16,
      "outputs": [
        {
          "output_type": "execute_result",
          "data": {
            "text/plain": [
              "0         0\n",
              "1         0\n",
              "2         0\n",
              "3         0\n",
              "4         0\n",
              "         ..\n",
              "175336    1\n",
              "175337    1\n",
              "175338    1\n",
              "175339    1\n",
              "175340    1\n",
              "Name: label, Length: 175341, dtype: int64"
            ]
          },
          "metadata": {
            "tags": []
          },
          "execution_count": 16
        }
      ]
    },
    {
      "cell_type": "code",
      "metadata": {
        "colab": {
          "base_uri": "https://localhost:8080/"
        },
        "id": "cmGrs2Pxl-uE",
        "outputId": "3a5b8d92-86d0-4aff-8105-032e8cf9a5bf"
      },
      "source": [
        "def one_hot_encode(X_train,X_test):\r\n",
        "    \r\n",
        "    categorical_cols = ['proto','service','state']\r\n",
        "    # Training dataset one hot encoding\r\n",
        "    ohe = OneHotEncoder(handle_unknown = 'ignore')\r\n",
        "    ohe.fit(X_train[categorical_cols])\r\n",
        "    array_hot_encoded1 = ohe.transform(X_train[categorical_cols]).toarray()\r\n",
        "\r\n",
        "    data_hot_encoded1 = pd.DataFrame(array_hot_encoded1, index=X_train.index,columns=ohe.get_feature_names(categorical_cols))\r\n",
        "    X_train = X_train.drop(columns=categorical_cols)\r\n",
        "    X_train = pd.concat([data_hot_encoded1,X_train], axis=1)\r\n",
        "    \r\n",
        "    print('X_train shape :',X_train.shape)\r\n",
        "    \r\n",
        "    # Test dataset one hot encoding\r\n",
        "    array_hot_encoded2 = ohe.transform(X_test[categorical_cols]).toarray()\r\n",
        "    data_hot_encoded2 = pd.DataFrame(array_hot_encoded2, index=X_test.index,columns=ohe.get_feature_names(categorical_cols))\r\n",
        "    X_test = X_test.drop(columns=categorical_cols)\r\n",
        "    X_test = pd.concat([data_hot_encoded2,X_test], axis=1)\r\n",
        "    \r\n",
        "    print('X_test shape :',X_test.shape)\r\n",
        "    \r\n",
        "    return X_train, X_test\r\n",
        "\r\n",
        "X_train, X_test = one_hot_encode(X_train,X_test)"
      ],
      "execution_count": 5,
      "outputs": [
        {
          "output_type": "stream",
          "text": [
            "X_train shape : (175341, 194)\n",
            "X_test shape : (82332, 194)\n"
          ],
          "name": "stdout"
        }
      ]
    },
    {
      "cell_type": "code",
      "metadata": {
        "id": "67hGkTbPmA6J"
      },
      "source": [
        "def scaling(X_train,X_test,scaler):\r\n",
        "  \r\n",
        "  X_train = pd.DataFrame(scaler.fit_transform(X_train),columns=X_train.columns)\r\n",
        "  X_test = pd.DataFrame(scaler.transform(X_test),columns=X_test.columns)\r\n",
        "  return X_train,X_test\r\n",
        "\r\n",
        "X_train, X_test = scaling(X_train,X_test,StandardScaler())"
      ],
      "execution_count": 6,
      "outputs": []
    },
    {
      "cell_type": "code",
      "metadata": {
        "id": "tI_cqvZbmFRQ"
      },
      "source": [
        "X_train = pd.DataFrame(X_train)\r\n",
        "X_test = pd.DataFrame(X_test)\r\n",
        "\r\n",
        "Y_train.reset_index(drop=True,inplace=True)\r\n",
        "Y_test.reset_index(drop=True,inplace=True)"
      ],
      "execution_count": 7,
      "outputs": []
    },
    {
      "cell_type": "code",
      "metadata": {
        "id": "XGFApEl8mS6I"
      },
      "source": [
        ""
      ],
      "execution_count": null,
      "outputs": []
    },
    {
      "cell_type": "code",
      "metadata": {
        "colab": {
          "base_uri": "https://localhost:8080/"
        },
        "id": "WME3KXyumiL0",
        "outputId": "2c9b703c-9aae-4342-bb5f-4f43630c042f"
      },
      "source": [
        "# Running K means with multible Ks\r\n",
        "best_seed = None\r\n",
        "final_centroids = None\r\n",
        "final_cluster_assignment = None\r\n",
        "X_value = X_train\r\n",
        "min_inertia = []\r\n",
        "#X_value = newdata.values\r\n",
        "seeds = [0, 20000, 40000, 60000, 80000, 100000, 120000]\r\n",
        "for seed in seeds:\r\n",
        "  inertia = []\r\n",
        "  no_of_clusters = range(2,10)\r\n",
        "  print('\\n\\n seed= {} \\n'.format(seed))\r\n",
        "  for f in no_of_clusters:\r\n",
        "      kmeans = KMeans(n_clusters=f, init='k-means++',random_state=seed)\r\n",
        "      kmeans = kmeans.fit(X_value)\r\n",
        "      \r\n",
        "      u = kmeans.inertia_\r\n",
        "      inertia.append(u)\r\n",
        "      print(\"The innertia for :\", f, \"Clusters is:\", u) \r\n",
        "      # if current measurement of heterogeneity is lower than previously seen,\r\n",
        "      # update the minimum record of heterogeneity.\r\n",
        "  if len(min_inertia) == 0 :\r\n",
        "      min_inertia = inertia\r\n",
        "      \r\n",
        "  if min(inertia,default=0) < min(min_inertia,default=0):\r\n",
        "      min_inertia = inertia\r\n",
        "      best_seed = seed\r\n",
        "      final_centroids = kmeans.cluster_centers_\r\n",
        "      final_cluster_assignment = kmeans.labels_"
      ],
      "execution_count": 8,
      "outputs": [
        {
          "output_type": "stream",
          "text": [
            "\n",
            "\n",
            " seed= 0 \n",
            "\n",
            "The innertia for : 2 Clusters is: 31974989.303355977\n",
            "The innertia for : 3 Clusters is: 31064443.944726653\n",
            "The innertia for : 4 Clusters is: 30620675.153446734\n",
            "The innertia for : 5 Clusters is: 30328638.56177434\n",
            "The innertia for : 6 Clusters is: 30012953.299389295\n",
            "The innertia for : 7 Clusters is: 29706308.447294377\n",
            "The innertia for : 8 Clusters is: 29357336.275920518\n",
            "The innertia for : 9 Clusters is: 29071508.084657226\n",
            "\n",
            "\n",
            " seed= 20000 \n",
            "\n",
            "The innertia for : 2 Clusters is: 31974989.303355977\n",
            "The innertia for : 3 Clusters is: 31064443.944726653\n",
            "The innertia for : 4 Clusters is: 30735872.685012355\n",
            "The innertia for : 5 Clusters is: 30420176.022459082\n",
            "The innertia for : 6 Clusters is: 30228693.73687248\n",
            "The innertia for : 7 Clusters is: 29697369.45079577\n",
            "The innertia for : 8 Clusters is: 29401483.287007485\n",
            "The innertia for : 9 Clusters is: 29225529.634272493\n",
            "\n",
            "\n",
            " seed= 40000 \n",
            "\n",
            "The innertia for : 2 Clusters is: 31974989.303355977\n",
            "The innertia for : 3 Clusters is: 31064443.900064297\n",
            "The innertia for : 4 Clusters is: 30599892.902584396\n",
            "The innertia for : 5 Clusters is: 30324382.745116927\n",
            "The innertia for : 6 Clusters is: 30134414.03894068\n",
            "The innertia for : 7 Clusters is: 29676457.614039138\n",
            "The innertia for : 8 Clusters is: 29561196.100645922\n",
            "The innertia for : 9 Clusters is: 29085897.696228113\n",
            "\n",
            "\n",
            " seed= 60000 \n",
            "\n",
            "The innertia for : 2 Clusters is: 31974989.303355977\n",
            "The innertia for : 3 Clusters is: 31064443.976770192\n",
            "The innertia for : 4 Clusters is: 30552817.165626995\n",
            "The innertia for : 5 Clusters is: 30138241.360195767\n",
            "The innertia for : 6 Clusters is: 29962341.758459534\n",
            "The innertia for : 7 Clusters is: 29668783.583826575\n",
            "The innertia for : 8 Clusters is: 29343343.42733174\n",
            "The innertia for : 9 Clusters is: 29086482.4582897\n",
            "\n",
            "\n",
            " seed= 80000 \n",
            "\n",
            "The innertia for : 2 Clusters is: 31974989.303355977\n",
            "The innertia for : 3 Clusters is: 31512771.93343918\n",
            "The innertia for : 4 Clusters is: 30872630.846462723\n",
            "The innertia for : 5 Clusters is: 30156181.07424742\n",
            "The innertia for : 6 Clusters is: 29879420.6910256\n",
            "The innertia for : 7 Clusters is: 29703804.19258035\n",
            "The innertia for : 8 Clusters is: 29430311.568103645\n",
            "The innertia for : 9 Clusters is: 28920190.026221815\n",
            "\n",
            "\n",
            " seed= 100000 \n",
            "\n",
            "The innertia for : 2 Clusters is: 31974989.303355977\n",
            "The innertia for : 3 Clusters is: 31064444.108247686\n",
            "The innertia for : 4 Clusters is: 30620675.154774778\n",
            "The innertia for : 5 Clusters is: 30444763.18182144\n",
            "The innertia for : 6 Clusters is: 29933187.321227796\n",
            "The innertia for : 7 Clusters is: 29635311.71572402\n",
            "The innertia for : 8 Clusters is: 29396675.41951684\n",
            "The innertia for : 9 Clusters is: 29221182.75421736\n",
            "\n",
            "\n",
            " seed= 120000 \n",
            "\n",
            "The innertia for : 2 Clusters is: 31974989.303355977\n",
            "The innertia for : 3 Clusters is: 31510438.047646526\n",
            "The innertia for : 4 Clusters is: 30599892.870540872\n",
            "The innertia for : 5 Clusters is: 30189748.420905545\n",
            "The innertia for : 6 Clusters is: 30014137.134584438\n",
            "The innertia for : 7 Clusters is: 29717757.806001488\n",
            "The innertia for : 8 Clusters is: 29187626.098982926\n",
            "The innertia for : 9 Clusters is: 28982056.34678097\n"
          ],
          "name": "stdout"
        }
      ]
    },
    {
      "cell_type": "code",
      "metadata": {
        "colab": {
          "base_uri": "https://localhost:8080/",
          "height": 417
        },
        "id": "vvcXxkMDtPdo",
        "outputId": "6121646d-876e-424d-a177-d676d487fb07"
      },
      "source": [
        "# Creating the scree plot for Intertia - elbow method\r\n",
        "fig, (ax1) = plt.subplots(1, figsize=(16,6))\r\n",
        "xx = np.arange(len(no_of_clusters))\r\n",
        "ax1.plot(xx, min_inertia,linewidth=4)\r\n",
        "ax1.set_xticks(xx)\r\n",
        "ax1.set_xticklabels(no_of_clusters, rotation='vertical')\r\n",
        "plt.xlabel('Number of clusters')\r\n",
        "plt.ylabel('Inertia Score')\r\n",
        "plt.title('Inertia Plot per k for Best Seed {}'.format(best_seed))"
      ],
      "execution_count": 9,
      "outputs": [
        {
          "output_type": "execute_result",
          "data": {
            "text/plain": [
              "Text(0.5, 1.0, 'Inertia Plot per k for Best Seed 80000')"
            ]
          },
          "metadata": {
            "tags": []
          },
          "execution_count": 9
        },
        {
          "output_type": "display_data",
          "data": {
            "image/png": "[encoded data removed]",
            "text/plain": [
              "<Figure size 1152x432 with 1 Axes>"
            ]
          },
          "metadata": {
            "tags": [],
            "needs_background": "light"
          }
        }
      ]
    },
    {
      "cell_type": "code",
      "metadata": {
        "colab": {
          "base_uri": "https://localhost:8080/",
          "height": 282
        },
        "id": "GLOLGjc4pEKo",
        "outputId": "3b0fac24-cd14-4ec6-9dff-6acdfd5fe40d"
      },
      "source": [
        "# between-a-point-and-a-line-in-2-d/\r\n",
        "def calc_distance(x1, y1, a, b, c):\r\n",
        "  d = abs((a * x1 + b * y1 + c)) / (math.sqrt(a * a + b * b))\r\n",
        "  return d\r\n",
        "\r\n",
        "a = inertia[0] - inertia[-1]\r\n",
        "b = no_of_clusters[-1] - no_of_clusters[0]\r\n",
        "c1 = no_of_clusters[0] * inertia[-1]\r\n",
        "c2 = no_of_clusters[-1] * inertia[0]\r\n",
        "c = c1 - c2\r\n",
        "\r\n",
        "r = no_of_clusters[-1]-1\r\n",
        "r\r\n",
        "distance_of_points_from_line = []\r\n",
        "\r\n",
        "for k in range(int(r)):\r\n",
        "  distance_of_points_from_line.append(\r\n",
        "      calc_distance(no_of_clusters[k], inertia[k], a, b, c))\r\n",
        "  \r\n",
        "plt.plot(no_of_clusters, distance_of_points_from_line)\r\n",
        "K =no_of_clusters[distance_of_points_from_line.index(max(distance_of_points_from_line))]\r\n",
        "print(\"Best K value : {}\".format(K))"
      ],
      "execution_count": 10,
      "outputs": [
        {
          "output_type": "stream",
          "text": [
            "Best K value : 4\n"
          ],
          "name": "stdout"
        },
        {
          "output_type": "display_data",
          "data": {
            "image/png": "[encoded data removed]",
            "text/plain": [
              "<Figure size 432x288 with 1 Axes>"
            ]
          },
          "metadata": {
            "tags": [],
            "needs_background": "light"
          }
        }
      ]
    },
    {
      "cell_type": "code",
      "metadata": {
        "id": "DvGL1Qhr0X5v"
      },
      "source": [
        "X_trainN = X_train\r\n",
        "X_testN = X_test"
      ],
      "execution_count": 11,
      "outputs": []
    },
    {
      "cell_type": "code",
      "metadata": {
        "id": "QdSZpFW30kQ9"
      },
      "source": [
        "# Running K means with multible seeds\r\n",
        " \r\n",
        "def runKmeans(X_train,no_of_clusters):\r\n",
        "\r\n",
        "  best_seed = None\r\n",
        "\r\n",
        "\r\n",
        "  min_inertia=0.0\r\n",
        "  \r\n",
        "  seeds = [0,9500,10000,10500,11000,15000,18000 , 20000, 40000, 60000, 80000,90000, 120000]\r\n",
        "  for seed in seeds:\r\n",
        "\r\n",
        "    \r\n",
        "    print('\\n seed= {} \\n'.format(seed))\r\n",
        "        \r\n",
        "    kmeans = KMeans(n_clusters=no_of_clusters, init='k-means++',random_state=seed)\r\n",
        "    kmeans = kmeans.fit(X_train)\r\n",
        "    \r\n",
        "    inertia = kmeans.inertia_\r\n",
        "    print(\"The innertia for : 2 Clusters is:\", inertia) \r\n",
        "    # if current measurement of heterogeneity is lower than previously seen,\r\n",
        "    # update the minimum record of heterogeneity.\r\n",
        "    if min_inertia == 0 :\r\n",
        "        min_inertia = inertia\r\n",
        "        best_seed = seed\r\n",
        "    if inertia < min_inertia:\r\n",
        "        min_inertia = inertia\r\n",
        "        best_seed = seed\r\n",
        "        \r\n",
        "\r\n",
        "  print(\"\\nMin inertia : \", min_inertia)\r\n",
        "  print(\"Best Seed : \",best_seed)\r\n",
        "  return best_seed\r\n",
        " "
      ],
      "execution_count": 12,
      "outputs": []
    },
    {
      "cell_type": "code",
      "metadata": {
        "colab": {
          "base_uri": "https://localhost:8080/"
        },
        "id": "EVcBWeyP0mPM",
        "outputId": "d923a3e0-bb9a-4578-900e-a4654b6a4643"
      },
      "source": [
        "best_seed = runKmeans(X_trainN,5)"
      ],
      "execution_count": 28,
      "outputs": [
        {
          "output_type": "stream",
          "text": [
            "\n",
            " seed= 0 \n",
            "\n",
            "The innertia for : 2 Clusters is: 30328638.56177434\n",
            "\n",
            " seed= 9500 \n",
            "\n",
            "The innertia for : 2 Clusters is: 30584214.403381333\n",
            "\n",
            " seed= 10000 \n",
            "\n",
            "The innertia for : 2 Clusters is: 30206449.50829642\n",
            "\n",
            " seed= 10500 \n",
            "\n",
            "The innertia for : 2 Clusters is: 30615128.350052703\n",
            "\n",
            " seed= 11000 \n",
            "\n",
            "The innertia for : 2 Clusters is: 30592672.030709557\n",
            "\n",
            " seed= 15000 \n",
            "\n",
            "The innertia for : 2 Clusters is: 30318629.68281465\n",
            "\n",
            " seed= 18000 \n",
            "\n",
            "The innertia for : 2 Clusters is: 30429720.20283916\n",
            "\n",
            " seed= 20000 \n",
            "\n",
            "The innertia for : 2 Clusters is: 30420176.022459082\n",
            "\n",
            " seed= 40000 \n",
            "\n",
            "The innertia for : 2 Clusters is: 30324382.745116927\n",
            "\n",
            " seed= 60000 \n",
            "\n",
            "The innertia for : 2 Clusters is: 30138241.360195767\n",
            "\n",
            " seed= 80000 \n",
            "\n",
            "The innertia for : 2 Clusters is: 30156181.07424742\n",
            "\n",
            " seed= 90000 \n",
            "\n",
            "The innertia for : 2 Clusters is: 30365782.62391436\n",
            "\n",
            " seed= 120000 \n",
            "\n",
            "The innertia for : 2 Clusters is: 30189748.420905545\n",
            "\n",
            "Min inertia :  30138241.360195767\n",
            "Best Seed :  60000\n"
          ],
          "name": "stdout"
        }
      ]
    },
    {
      "cell_type": "code",
      "metadata": {
        "id": "hePq1p3yz4a6"
      },
      "source": [
        "# Running K means on K clusters\r\n",
        "kmeans = KMeans(n_clusters=5,init='k-means++', random_state=best_seed)\r\n",
        "kmeans = kmeans.fit(X_trainN)"
      ],
      "execution_count": 29,
      "outputs": []
    },
    {
      "cell_type": "code",
      "metadata": {
        "id": "Vfq4dBda0GWW"
      },
      "source": [
        "\r\n",
        "def binaryaccuracyScore():\r\n",
        "  label0 = 1- kmeans.labels_\r\n",
        "  label1 = kmeans.labels_\r\n",
        "  test_label1 = kmeans.predict(X_testN)\r\n",
        "  test_label0 = 1 - test_label1\r\n",
        "\r\n",
        "  a = accuracy_score(Y_train,label0)*100\r\n",
        "  aa = accuracy_score(Y_train,label1)*100\r\n",
        "  if (a>= aa):\r\n",
        "    l = test_label0\r\n",
        "    print(\"Accuracy Train: \",a)\r\n",
        "  else:\r\n",
        "    l = test_label1\r\n",
        "\r\n",
        "  print(\"Accuracy Test: \",accuracy_score(Y_test,l)*100)\r\n",
        "\r\n",
        "  print(\"\\nTest set precision : {:.4f}\".format(precision_score(Y_test, l)))\r\n",
        "  print(\"Test set recall    : {:.4f}\".format(recall_score(Y_test, l)))\r\n",
        "  print(\"Test set F1-score  : {:.4f}\".format(f1_score(Y_test, l)))\r\n"
      ],
      "execution_count": 13,
      "outputs": []
    },
    {
      "cell_type": "code",
      "metadata": {
        "colab": {
          "base_uri": "https://localhost:8080/"
        },
        "id": "1Ufh_FFN0MPi",
        "outputId": "6d7a50cb-357c-48f5-9499-d15f6f57006f"
      },
      "source": [
        "# Running K means on K clusters\r\n",
        "kmeans = KMeans(n_clusters=2,init='k-means++', random_state=best_seed)\r\n",
        "kmeans = kmeans.fit(X_trainN)\r\n",
        "\r\n",
        "\r\n",
        "binaryaccuracyScore()\r\n"
      ],
      "execution_count": 14,
      "outputs": [
        {
          "output_type": "stream",
          "text": [
            "Accuracy Train:  66.60222081543962\n",
            "Accuracy Test:  68.35616771121799\n",
            "\n",
            "Test set precision : 0.7357\n",
            "Test set recall    : 0.6637\n",
            "Test set F1-score  : 0.6978\n"
          ],
          "name": "stdout"
        }
      ]
    },
    {
      "cell_type": "code",
      "metadata": {
        "id": "7exhZAm50Ocn"
      },
      "source": [
        "def multiTrain(n,label): \r\n",
        "\r\n",
        "  def oneVsAll(number):\r\n",
        "    \r\n",
        "    if (number ==nn):\r\n",
        "      return 0\r\n",
        "    else:\r\n",
        "      return 1\r\n",
        "  m=[]\r\n",
        "  \r\n",
        "  for i in range(0, n):\r\n",
        "    nn=i\r\n",
        "    m.append(accuracy_score(Y_train,np.array(list(map(oneVsAll, label)))))\r\n",
        "    \r\n",
        "\r\n",
        "  print(\"Accuracy Train: \",max(m)*100)\r\n",
        "  \r\n",
        "  return m.index(max(m))"
      ],
      "execution_count": 38,
      "outputs": []
    },
    {
      "cell_type": "code",
      "metadata": {
        "colab": {
          "base_uri": "https://localhost:8080/"
        },
        "id": "KcTQGXbN0P7E",
        "outputId": "58dd3eb9-126f-4943-9693-bcc04179552c"
      },
      "source": [
        "i =multiTrain(5,kmeans.labels_)\r\n",
        "i"
      ],
      "execution_count": 39,
      "outputs": [
        {
          "output_type": "stream",
          "text": [
            "Accuracy Train:  83.25605534358765\n"
          ],
          "name": "stdout"
        },
        {
          "output_type": "execute_result",
          "data": {
            "text/plain": [
              "4"
            ]
          },
          "metadata": {
            "tags": []
          },
          "execution_count": 39
        }
      ]
    },
    {
      "cell_type": "code",
      "metadata": {
        "id": "Vnp-OVmphxa6"
      },
      "source": [
        "def multiTest(n,label,index): \r\n",
        "\r\n",
        "  def oneVsAll(number):\r\n",
        "    if (number ==index):\r\n",
        "      return 0\r\n",
        "    else:\r\n",
        "      return 1\r\n",
        "  a=np.array(list(map(oneVsAll, label)))\r\n",
        "  print(\"Accuracy Test: \",accuracy_score(Y_test,a)*100)\r\n",
        "  print(\"Test set precision : {:.4f}\".format(precision_score(Y_test, a)))\r\n",
        "  print(\"Test set recall    : {:.4f}\".format(recall_score(Y_test, a)))\r\n",
        "  print(\"Test set F1-score  : {:.4f}\".format(f1_score(Y_test, a)))\r\n",
        "  cm = confusion_matrix(Y_test,a,normalize= 'true')\r\n",
        "  print('True Positives  : {:.2f}'.format(cm[1][1]))\r\n",
        "  print('True Negatives  : {:.2f}'.format(cm[0][0]))\r\n",
        "  print('False Positives : {:.2f}'.format(cm[0][1]))\r\n",
        "  print('False Negatives : {:.2f}'.format(cm[1][0]))\r\n",
        "  "
      ],
      "execution_count": 40,
      "outputs": []
    },
    {
      "cell_type": "code",
      "metadata": {
        "colab": {
          "base_uri": "https://localhost:8080/"
        },
        "id": "v5J21xAfifve",
        "outputId": "9ff6fba2-c01d-47f5-adad-373d44b79558"
      },
      "source": [
        "multiTest(5,kmeans.predict(X_testN),i)"
      ],
      "execution_count": 41,
      "outputs": [
        {
          "output_type": "stream",
          "text": [
            "Accuracy Test:  68.73755040567458\n",
            "Test set precision : 0.6416\n",
            "Test set recall    : 0.9793\n",
            "Test set F1-score  : 0.7753\n",
            "True Positives  : 0.98\n",
            "True Negatives  : 0.33\n",
            "False Positives : 0.67\n",
            "False Negatives : 0.02\n"
          ],
          "name": "stdout"
        }
      ]
    },
    {
      "cell_type": "code",
      "metadata": {
        "id": "_yKRmz_OnL7L"
      },
      "source": [
        ""
      ],
      "execution_count": null,
      "outputs": []
    },
    {
      "cell_type": "code",
      "metadata": {
        "id": "g2wDNdkS2IdV"
      },
      "source": [
        "def accMultitoBinary(Y,predicted):\r\n",
        "    \r\n",
        "    print(\"Accuracy Test: \",accuracy_score(Y,predicted)*100)\r\n",
        "    print(\"Test set precision : {:.4f}\".format(precision_score(Y, predicted)))\r\n",
        "    print(\"Test set recall    : {:.4f}\".format(recall_score(Y, predicted)))\r\n",
        "    print(\"Test set F1-score  : {:.4f}\".format(f1_score(Y, predicted)))\r\n",
        "    cm = confusion_matrix(Y,predicted,normalize= 'true')\r\n",
        "    print('True Positives  : {:.2f}'.format(cm[1][1]))\r\n",
        "    print('True Negatives  : {:.2f}'.format(cm[0][0]))\r\n",
        "    print('False Positives : {:.2f}'.format(cm[0][1]))\r\n",
        "    print('False Negatives : {:.2f}'.format(cm[1][0]))"
      ],
      "execution_count": 18,
      "outputs": []
    },
    {
      "cell_type": "code",
      "metadata": {
        "id": "EI2u4EIknLuY"
      },
      "source": [
        "def mapMultitoBinary(n,Trainlabel,Testlabel):\r\n",
        "  l1=[]\r\n",
        "  l0=[]\r\n",
        "  def lmap(num):\r\n",
        "    if (num in l0):\r\n",
        "      return 0\r\n",
        "    else:\r\n",
        "      return 1\r\n",
        "  \r\n",
        "  for i in range(0, n):\r\n",
        "\r\n",
        "    print(\"Cluster \", i)\r\n",
        "    c=Y_train[Trainlabel==i]\r\n",
        "    if (len(c[c == 1])>len(c[c == 0])):\r\n",
        "      l1.append(i)\r\n",
        "    else:\r\n",
        "      l0.append(i)\r\n",
        "    print(\"intrusion : \",len(c[c == 1]))\r\n",
        "    print(\"normal : \",len(c[c == 0]))\r\n",
        "  ltrain = np.array(list(map(lmap , Trainlabel)))\r\n",
        "  print(\"Accuracy Train: \",accuracy_score(Y_train,ltrain)*100)\r\n",
        "  ltest = np.array(list(map(lmap , Testlabel)))\r\n",
        "  return ltest\r\n"
      ],
      "execution_count": 19,
      "outputs": []
    },
    {
      "cell_type": "code",
      "metadata": {
        "colab": {
          "base_uri": "https://localhost:8080/"
        },
        "id": "kyXSfvayzs8-",
        "outputId": "511439c4-cd1f-41b4-b0f2-a0132059a27d"
      },
      "source": [
        "pr = kmeans.predict(X_testN)\r\n",
        "a = mapMultitoBinary(4,kmeans.labels_,pr)\r\n",
        "\r\n",
        "accMultitoBinary(Y_test,a)"
      ],
      "execution_count": 27,
      "outputs": [
        {
          "output_type": "stream",
          "text": [
            "Cluster  0\n",
            "intrusion :  40825\n",
            "normal :  38264\n",
            "Cluster  1\n",
            "intrusion :  38373\n",
            "normal :  812\n",
            "Cluster  2\n",
            "intrusion :  40143\n",
            "normal :  14084\n",
            "Cluster  3\n",
            "intrusion :  0\n",
            "normal :  2840\n",
            "Accuracy Train:  69.68193405991752\n",
            "Accuracy Test:  56.23937229752709\n",
            "Test set precision : 0.5572\n",
            "Test set recall    : 1.0000\n",
            "Test set F1-score  : 0.7156\n",
            "True Positives  : 1.00\n",
            "True Negatives  : 0.03\n",
            "False Positives : 0.97\n",
            "False Negatives : 0.00\n"
          ],
          "name": "stdout"
        }
      ]
    },
    {
      "cell_type": "code",
      "metadata": {
        "id": "C4NOy_f12gbT"
      },
      "source": [
        ""
      ],
      "execution_count": null,
      "outputs": []
    }
  ]
}