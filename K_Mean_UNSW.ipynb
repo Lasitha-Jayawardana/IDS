{
  "nbformat": 4,
  "nbformat_minor": 0,
  "metadata": {
    "colab": {
      "name": "K-Mean_UNSW.ipynb",
      "provenance": [],
      "collapsed_sections": [],
      "toc_visible": true,
      "mount_file_id": "1Q7bKhPlJi3oiaVeeAWuQeRQUMmLQZvnd",
      "authorship_tag": "ABX9TyOOCkLSJU+ZNqK7PAj8bKyx",
      "include_colab_link": true
    },
    "kernelspec": {
      "name": "python3",
      "display_name": "Python 3"
    }
  },
  "cells": [
    {
      "cell_type": "markdown",
      "metadata": {
        "id": "view-in-github",
        "colab_type": "text"
      },
      "source": [
        "<a href=\"https://colab.research.google.com/github/Lasitha-Jayawardana/IDS/blob/main/K_Mean_UNSW.ipynb\" target=\"_parent\"><img src=\"https://colab.research.google.com/assets/colab-badge.svg\" alt=\"Open In Colab\"/></a>"
      ]
    },
    {
      "cell_type": "code",
      "metadata": {
        "id": "gWVoqGBK64T7"
      },
      "source": [
        "import numpy as np\n",
        "import pandas as pd\n",
        "\n",
        "import matplotlib.pyplot as plt\n",
        "from sklearn.decomposition import PCA\n",
        "import seaborn as sns\n",
        "from sklearn.model_selection import train_test_split\n",
        "from sklearn.preprocessing import StandardScaler\n",
        "from sklearn.preprocessing import MinMaxScaler\n",
        "from sklearn.preprocessing import OneHotEncoder\n",
        "from sklearn.preprocessing import LabelEncoder\n",
        "from sklearn.compose import make_column_transformer\n",
        "from sklearn.pipeline import make_pipeline\n",
        "from sklearn.model_selection import cross_val_score\n",
        "from sklearn.metrics import confusion_matrix\n",
        "from sklearn.metrics import classification_report\n",
        "from sklearn.metrics import accuracy_score\n",
        "from sklearn.model_selection import GridSearchCV\n",
        "import math\n",
        "from sklearn.cluster import KMeans\n",
        "# To change scientific numbers to float\n",
        "np.set_printoptions(formatter={'float_kind':'{:f}'.format})\n",
        "from sklearn.model_selection import GridSearchCV, cross_val_score,train_test_split\n",
        "from sklearn.metrics import accuracy_score, precision_score, recall_score, classification_report, confusion_matrix,f1_score\n",
        "from sklearn import preprocessing "
      ],
      "execution_count": 1,
      "outputs": []
    },
    {
      "cell_type": "code",
      "metadata": {
        "id": "MUM4zgqK8ssa"
      },
      "source": [
        "def loadData():\n",
        "  global df_train\n",
        "  global df_test\n",
        "  \n",
        "  df_train = pd.read_csv('/content/drive/MyDrive/Colab Notebooks/IDS Project//UNSW_NB15_training-set.csv')\n",
        "  df_test = pd.read_csv('/content/drive/MyDrive/Colab Notebooks/IDS Project//UNSW_NB15_testing-set.csv')\n",
        "\n",
        "  for col in ['proto','service','state']:\n",
        "    df_train[col] = df_train[col].astype('category')\n",
        "    df_test[col] = df_test[col].astype('category')\n",
        "\n",
        "  df_train=df_train.drop(columns='id')\n",
        "  df_test=df_test.drop(columns='id')\n",
        "  df_test.drop(df_test[df_test['state'] == 'ACC'].index, inplace = True)\n",
        "  df_test.drop(df_test[df_test['state'] == 'CLO'].index, inplace = True)\n",
        "  df_test.reset_index(drop=True,inplace=True) \n",
        "  df_train.reset_index(drop=True,inplace=True) "
      ],
      "execution_count": 2,
      "outputs": []
    },
    {
      "cell_type": "code",
      "metadata": {
        "id": "FWzL2Oxtup8T"
      },
      "source": [
        "#df_train.columns"
      ],
      "execution_count": 3,
      "outputs": []
    },
    {
      "cell_type": "code",
      "metadata": {
        "id": "gRtNmujcmxXO"
      },
      "source": [
        "#df_train.groupby('attack_cat')['attack_cat'].count()"
      ],
      "execution_count": 4,
      "outputs": []
    },
    {
      "cell_type": "code",
      "metadata": {
        "id": "FTiXv50MvSBq"
      },
      "source": [
        "#df_train[df_train['label'] == 0].groupby('attack_cat')['attack_cat'].count()"
      ],
      "execution_count": 5,
      "outputs": []
    },
    {
      "cell_type": "code",
      "metadata": {
        "id": "a0d9QY0AmQVE"
      },
      "source": [
        "def balanceClass():\r\n",
        "  global df_train\r\n",
        "  global df_test\r\n",
        "  # Class count\r\n",
        "  count_class_0, count_class_1 = df_train['label'].value_counts()\r\n",
        "\r\n",
        "  # Divide by class\r\n",
        "  df_class_1= df_train[df_train['label'] == 0]\r\n",
        "  df_class_0 = df_train[df_train['label'] == 1]\r\n",
        "      \r\n",
        "  df_class_0_under = df_class_0.sample(count_class_1)\r\n",
        "  df_train = pd.concat([df_class_0_under, df_class_1], axis=0)\r\n",
        "  df_train.reset_index(drop=True,inplace=True)\r\n",
        "  df_train.groupby('label')['label'].count()"
      ],
      "execution_count": 6,
      "outputs": []
    },
    {
      "cell_type": "code",
      "metadata": {
        "id": "d4ZuCD-Q3FlO"
      },
      "source": [
        "#balanceClass()"
      ],
      "execution_count": 7,
      "outputs": []
    },
    {
      "cell_type": "code",
      "metadata": {
        "id": "R0LtbUtNm08k"
      },
      "source": [
        ""
      ],
      "execution_count": 7,
      "outputs": []
    },
    {
      "cell_type": "code",
      "metadata": {
        "id": "eswWmlZ73YxG"
      },
      "source": [
        "def addOtherLabel():\r\n",
        "  global df_train\r\n",
        "  global df_test\r\n",
        "  label1 = 'other_proto'\r\n",
        "  others2 = df_train['proto'].value_counts().index[7:]\r\n",
        "  df_train['proto'] = df_train['proto'].cat.add_categories([label1])\r\n",
        "  df_train['proto'] = df_train['proto'].replace(others2, label1)\r\n",
        "  \r\n",
        "  label2 = 'other_state'\r\n",
        "  others3 = df_train['state'].value_counts().index[4:]\r\n",
        "  df_train['state'] = df_train['state'].cat.add_categories([label2])\r\n",
        "  df_train['state'] = df_train['state'].replace(others3, label2)\r\n",
        "  \r\n",
        "  df_test.drop(df_test[df_test['state'] == 'ACC'].index, inplace = True)\r\n",
        "  df_test.drop(df_test[df_test['state'] == 'CLO'].index, inplace = True)\r\n",
        "   \r\n",
        "  others4 = df_test['proto'].value_counts().index[7:]\r\n",
        "  df_test['proto'] = df_test['proto'].cat.add_categories([label1])\r\n",
        "  df_test['proto'] = df_test['proto'].replace(others4, label1)\r\n",
        "  \r\n",
        "   \r\n",
        "  others5 = df_test['state'].value_counts().index[4:]\r\n",
        "  df_test['state'] = df_test['state'].cat.add_categories([label2])\r\n",
        "  df_test['state'] = df_test['state'].replace(others5, label2)\r\n",
        "  \r\n",
        "  \r\n",
        "  \r\n",
        "#addOtherLabel()"
      ],
      "execution_count": 8,
      "outputs": []
    },
    {
      "cell_type": "code",
      "metadata": {
        "id": "GZmFMb9jnB-j"
      },
      "source": [
        "def removeDuplicate():\r\n",
        "  print('Duplicates train:',df_train.duplicated().sum())\r\n",
        "  df_train.drop_duplicates(keep='first',inplace=True)\r\n",
        "  print(df_train.duplicated().sum())\r\n",
        "\r\n",
        "  print('Duplicates test:',df_test.duplicated().sum())\r\n",
        "  df_test.drop_duplicates(keep='first',inplace=True)\r\n",
        "  print(df_test.duplicated().sum())\r\n",
        "\r\n",
        "  df_train.reset_index(drop=True,inplace=True)\r\n",
        "  df_test.reset_index(drop=True,inplace=True)"
      ],
      "execution_count": 9,
      "outputs": []
    },
    {
      "cell_type": "code",
      "metadata": {
        "id": "vbqbssLkl47d"
      },
      "source": [
        "def splitData():\r\n",
        "  global X_train\r\n",
        "  global Y_train\r\n",
        "  global X_test\r\n",
        "  global Y_test\r\n",
        "  global df_train\r\n",
        "  global df_test\r\n",
        "  \r\n",
        "  limit1 = df_train.shape[1]-1\r\n",
        "      \r\n",
        "  X_train = df_train.iloc[:,0:limit1-1] # train set features\r\n",
        "  Y_train = df_train.iloc[:,limit1]\r\n",
        "      \r\n",
        "  limit2 = df_test.shape[1]-1\r\n",
        "      \r\n",
        "  X_test = df_test.iloc[:,0:limit2-1] # test set features\r\n",
        "  Y_test = df_test.iloc[:,limit2]"
      ],
      "execution_count": 10,
      "outputs": []
    },
    {
      "cell_type": "code",
      "metadata": {
        "id": "qDfTOmOj2hXy"
      },
      "source": [
        "def labelEncoding(X_train,X_test):\r\n",
        "  label_encoder = preprocessing.LabelEncoder() \r\n",
        "  \r\n",
        "# Encode labels in column 'species'. \r\n",
        "  X_train['proto']= label_encoder.fit_transform(X_train['proto' ]) \r\n",
        "  X_test['proto']= label_encoder.transform(X_test['proto' ]) \r\n",
        "  X_train['state']= label_encoder.fit_transform(X_train['state' ]) \r\n",
        "  X_test['state']= label_encoder.transform(X_test['state' ]) \r\n",
        "  X_train['service']= label_encoder.fit_transform(X_train['service' ]) \r\n",
        "  X_test['service']= label_encoder.transform(X_test['service' ]) \r\n",
        "  return X_train,X_test\r\n",
        "\r\n",
        "#X_train,X_test = labelEncoding(X_train,X_test)\r\n"
      ],
      "execution_count": 11,
      "outputs": []
    },
    {
      "cell_type": "code",
      "metadata": {
        "id": "cmGrs2Pxl-uE"
      },
      "source": [
        "def one_hot_encode(X_train,X_test):\r\n",
        "    \r\n",
        "    categorical_cols = ['proto','service','state']\r\n",
        "    # Training dataset one hot encoding\r\n",
        "    ohe = OneHotEncoder(handle_unknown = 'ignore')\r\n",
        "    ohe.fit(X_train[categorical_cols])\r\n",
        "    array_hot_encoded1 = ohe.transform(X_train[categorical_cols]).toarray()\r\n",
        "\r\n",
        "    data_hot_encoded1 = pd.DataFrame(array_hot_encoded1, index=X_train.index,columns=ohe.get_feature_names(categorical_cols))\r\n",
        "    X_train = X_train.drop(columns=categorical_cols)\r\n",
        "    X_train = pd.concat([data_hot_encoded1,X_train], axis=1)\r\n",
        "    \r\n",
        "    print('X_train shape :',X_train.shape)\r\n",
        "    \r\n",
        "    # Test dataset one hot encoding\r\n",
        "    array_hot_encoded2 = ohe.transform(X_test[categorical_cols]).toarray()\r\n",
        "    data_hot_encoded2 = pd.DataFrame(array_hot_encoded2, index=X_test.index,columns=ohe.get_feature_names(categorical_cols))\r\n",
        "    X_test = X_test.drop(columns=categorical_cols)\r\n",
        "    X_test = pd.concat([data_hot_encoded2,X_test], axis=1)\r\n",
        "    \r\n",
        "    print('X_test shape :',X_test.shape)\r\n",
        "    X_train = pd.DataFrame(X_train)\r\n",
        "    X_test = pd.DataFrame(X_test)\r\n",
        "\r\n",
        "    Y_train.reset_index(drop=True,inplace=True)\r\n",
        "    Y_test.reset_index(drop=True,inplace=True)\r\n",
        "    return X_train, X_test\r\n",
        "\r\n",
        "#X_train, X_test = one_hot_encode(X_train,X_test)"
      ],
      "execution_count": 12,
      "outputs": []
    },
    {
      "cell_type": "code",
      "metadata": {
        "id": "67hGkTbPmA6J"
      },
      "source": [
        "def scaling(X_train,X_test,scaler):\r\n",
        "  \r\n",
        "  X_train = pd.DataFrame(scaler.fit_transform(X_train),columns=X_train.columns)\r\n",
        "  X_test = pd.DataFrame(scaler.transform(X_test),columns=X_test.columns)\r\n",
        "  return X_train,X_test\r\n",
        "\r\n",
        "#X_train, X_test = scaling(X_train,X_test,StandardScaler())"
      ],
      "execution_count": 13,
      "outputs": []
    },
    {
      "cell_type": "code",
      "metadata": {
        "id": "tI_cqvZbmFRQ"
      },
      "source": [
        "def runPCA(X_train,X_test,kPCA):\r\n",
        "  pca = PCA(n_components=kPCA, random_state = 453)\r\n",
        "  X_rtrain = pca.fit(X_train).transform(X_train)\r\n",
        "  X_rtest  = pca.transform(X_test)\r\n",
        "  return X_rtrain,X_rtest"
      ],
      "execution_count": 29,
      "outputs": []
    },
    {
      "cell_type": "code",
      "metadata": {
        "id": "XGFApEl8mS6I"
      },
      "source": [
        ""
      ],
      "execution_count": 14,
      "outputs": []
    },
    {
      "cell_type": "code",
      "metadata": {
        "id": "WME3KXyumiL0"
      },
      "source": [
        "def searchKmeans():\r\n",
        " \r\n",
        "\r\n",
        "  # Running K means with multible Ks\r\n",
        "  best_seed = None\r\n",
        "  \r\n",
        "\r\n",
        "  X_value = X_train\r\n",
        "  min_inertia = []\r\n",
        "  #X_value = newdata.values\r\n",
        "  seeds = [0, 20000, 40000, 60000, 80000, 100000, 120000]\r\n",
        "  for seed in seeds:\r\n",
        "    inertia = []\r\n",
        "    no_of_clusters = range(2,10)\r\n",
        "    print('\\n\\n seed= {} \\n'.format(seed))\r\n",
        "    for f in no_of_clusters:\r\n",
        "        kmeans = KMeans(n_clusters=f, init='k-means++',random_state=seed)\r\n",
        "        kmeans = kmeans.fit(X_value)\r\n",
        "        \r\n",
        "        u = kmeans.inertia_\r\n",
        "        inertia.append(u)\r\n",
        "        print(\"The innertia for :\", f, \"Clusters is:\", u) \r\n",
        "        # if current measurement of heterogeneity is lower than previously seen,\r\n",
        "        # update the minimum record of heterogeneity.\r\n",
        "    if len(min_inertia) == 0 :\r\n",
        "        min_inertia = inertia\r\n",
        "        \r\n",
        "    if min(inertia,default=0) < min(min_inertia,default=0):\r\n",
        "        min_inertia = inertia\r\n",
        "        best_seed = seed\r\n",
        "    \r\n",
        "    # Creating the scree plot for Intertia - elbow method\r\n",
        "  fig, (ax1) = plt.subplots(1, figsize=(16,6))\r\n",
        "  xx = np.arange(len(no_of_clusters))\r\n",
        "  ax1.plot(xx, min_inertia,linewidth=4)\r\n",
        "  ax1.set_xticks(xx)\r\n",
        "  ax1.set_xticklabels(no_of_clusters, rotation='vertical')\r\n",
        "  plt.xlabel('Number of clusters')\r\n",
        "  plt.ylabel('Inertia Score')\r\n",
        "  plt.title('Inertia Plot per k for Best Seed {}'.format(best_seed))\r\n",
        "\r\n",
        "  # between-a-point-and-a-line-in-2-d/\r\n",
        "  def calc_distance(x1, y1, a, b, c):\r\n",
        "    d = abs((a * x1 + b * y1 + c)) / (math.sqrt(a * a + b * b))\r\n",
        "    return d\r\n",
        "\r\n",
        "  a = inertia[0] - inertia[-1]\r\n",
        "  b = no_of_clusters[-1] - no_of_clusters[0]\r\n",
        "  c1 = no_of_clusters[0] * inertia[-1]\r\n",
        "  c2 = no_of_clusters[-1] * inertia[0]\r\n",
        "  c = c1 - c2\r\n",
        "\r\n",
        "  r = no_of_clusters[-1]-1\r\n",
        "  r\r\n",
        "  distance_of_points_from_line = []\r\n",
        "\r\n",
        "  for k in range(int(r)):\r\n",
        "    distance_of_points_from_line.append(\r\n",
        "        calc_distance(no_of_clusters[k], inertia[k], a, b, c))\r\n",
        "    \r\n",
        "  plt.plot(no_of_clusters, distance_of_points_from_line)\r\n",
        "  K =no_of_clusters[distance_of_points_from_line.index(max(distance_of_points_from_line))]\r\n",
        "  print(\"Best K value : {}\".format(K))\r\n",
        "\r\n",
        "  return  K,best_seed "
      ],
      "execution_count": 15,
      "outputs": []
    },
    {
      "cell_type": "code",
      "metadata": {
        "id": "r1_3gLho511G"
      },
      "source": [
        ""
      ],
      "execution_count": 15,
      "outputs": []
    },
    {
      "cell_type": "code",
      "metadata": {
        "id": "vvcXxkMDtPdo"
      },
      "source": [
        ""
      ],
      "execution_count": 15,
      "outputs": []
    },
    {
      "cell_type": "code",
      "metadata": {
        "id": "GLOLGjc4pEKo"
      },
      "source": [
        ""
      ],
      "execution_count": 15,
      "outputs": []
    },
    {
      "cell_type": "code",
      "metadata": {
        "id": "DvGL1Qhr0X5v"
      },
      "source": [
        "def XtoN():\r\n",
        "  global X_trainN\r\n",
        "  global X_testN\r\n",
        "  global kmeans\r\n",
        "  X_trainN = X_train\r\n",
        "  X_testN = X_test\r\n",
        "  "
      ],
      "execution_count": 16,
      "outputs": []
    },
    {
      "cell_type": "code",
      "metadata": {
        "id": "QdSZpFW30kQ9"
      },
      "source": [
        "# Running K means with multible seeds\r\n",
        " \r\n",
        "def searchSeed(X_train,no_of_clusters):\r\n",
        "  global kmeans\r\n",
        "  best_seed = None\r\n",
        "\r\n",
        "\r\n",
        "  min_inertia=0.0\r\n",
        "  \r\n",
        "  seeds = [0,9500,10000,10500,11000,15000,18000 , 20000, 40000, 60000, 80000,90000, 120000]\r\n",
        "  for seed in seeds:\r\n",
        "\r\n",
        "    \r\n",
        "    #print('\\n seed= {} \\n'.format(seed))\r\n",
        "        \r\n",
        "    kmeans = KMeans(n_clusters=no_of_clusters, init='k-means++',random_state=seed)\r\n",
        "    kmeans = kmeans.fit(X_train)\r\n",
        "    \r\n",
        "    inertia = kmeans.inertia_\r\n",
        "    #print(\"The innertia for : 2 Clusters is:\", inertia) \r\n",
        "    # if current measurement of heterogeneity is lower than previously seen,\r\n",
        "    # update the minimum record of heterogeneity.\r\n",
        "    if min_inertia == 0 :\r\n",
        "        min_inertia = inertia\r\n",
        "        best_seed = seed\r\n",
        "    if inertia < min_inertia:\r\n",
        "        min_inertia = inertia\r\n",
        "        best_seed = seed\r\n",
        "        \r\n",
        "\r\n",
        "  print(\"\\nMin inertia : \", min_inertia)\r\n",
        "  print(\"Best Seed : \",best_seed)\r\n",
        "  return best_seed\r\n",
        " "
      ],
      "execution_count": 34,
      "outputs": []
    },
    {
      "cell_type": "code",
      "metadata": {
        "id": "EVcBWeyP0mPM"
      },
      "source": [
        "#best_seed = searchSeed(X_trainN,5)\r\n"
      ],
      "execution_count": 18,
      "outputs": []
    },
    {
      "cell_type": "code",
      "metadata": {
        "id": "hePq1p3yz4a6"
      },
      "source": [
        "def runKmeans(k,best_seed):\r\n",
        "  global kmeans\r\n",
        "  # Running K means on K clusters\r\n",
        "  kmeans = KMeans(n_clusters=k,init='k-means++', random_state=best_seed)\r\n",
        "  kmeans = kmeans.fit(X_trainN)"
      ],
      "execution_count": 19,
      "outputs": []
    },
    {
      "cell_type": "code",
      "metadata": {
        "id": "Vfq4dBda0GWW"
      },
      "source": [
        "def binaryaccuracyScore():\r\n",
        "  label0 = 1- kmeans.labels_\r\n",
        "  label1 = kmeans.labels_\r\n",
        "  test_label1 = kmeans.predict(X_testN)\r\n",
        "  test_label0 = 1 - test_label1\r\n",
        "\r\n",
        "  a = accuracy_score(Y_train,label0)*100\r\n",
        "  aa = accuracy_score(Y_train,label1)*100\r\n",
        "  if (a>= aa):\r\n",
        "    l = test_label0\r\n",
        "    print(\"Accuracy Train: \",a)\r\n",
        "  else:\r\n",
        "    l = test_label1\r\n",
        "    print(\"Accuracy Train: \",aa)\r\n",
        "\r\n",
        "  print(\"Accuracy Test: \",accuracy_score(Y_test,l)*100)\r\n",
        "\r\n",
        "  print(\"\\nTest set precision : {:.4f}\".format(precision_score(Y_test, l)))\r\n",
        "  print(\"Test set recall    : {:.4f}\".format(recall_score(Y_test, l)))\r\n",
        "  print(\"Test set F1-score  : {:.4f}\".format(f1_score(Y_test, l)))\r\n",
        "  \r\n",
        "  cm = confusion_matrix(Y_test,l,normalize= 'true')\r\n",
        "  print('True Positives  : {:.2f}'.format(cm[1][1]))\r\n",
        "  print('True Negatives  : {:.2f}'.format(cm[0][0]))\r\n",
        "  print('False Positives : {:.2f}'.format(cm[0][1]))\r\n",
        "  print('False Negatives : {:.2f}'.format(cm[1][0]))"
      ],
      "execution_count": 20,
      "outputs": []
    },
    {
      "cell_type": "code",
      "metadata": {
        "id": "1Ufh_FFN0MPi"
      },
      "source": [
        "\n",
        "#binaryaccuracyScore()\n"
      ],
      "execution_count": 21,
      "outputs": []
    },
    {
      "cell_type": "code",
      "metadata": {
        "id": "7exhZAm50Ocn"
      },
      "source": [
        "def oneVsAllScore(n,Trainlabel,Testlabel): \r\n",
        "\r\n",
        "  def oneVsAll(number):\r\n",
        "    if (number ==nn):\r\n",
        "      return 0\r\n",
        "    else:\r\n",
        "      return 1\r\n",
        "  m=[]\r\n",
        "  \r\n",
        "  for i in range(0, n):\r\n",
        "    nn=i\r\n",
        "    m.append(accuracy_score(Y_train,np.array(list(map(oneVsAll, Trainlabel)))))\r\n",
        "    print(i,\"  \",accuracy_score(Y_train,np.array(list(map(oneVsAll, Trainlabel)))))\r\n",
        "\r\n",
        "  print(\"Accuracy Train: \",max(m)*100)\r\n",
        "  index =m.index(max(m))\r\n",
        "  nn=index\r\n",
        "  #print(nn)\r\n",
        "  a=np.array(list(map(oneVsAll, Testlabel)))\r\n",
        "  print(\"Accuracy Test: \",accuracy_score(Y_test,a)*100)\r\n",
        "  print(\"Test set precision : {:.4f}\".format(precision_score(Y_test, a)))\r\n",
        "  print(\"Test set recall    : {:.4f}\".format(recall_score(Y_test, a)))\r\n",
        "  print(\"Test set F1-score  : {:.4f}\".format(f1_score(Y_test, a)))\r\n",
        "  cm = confusion_matrix(Y_test,a,normalize= 'true')\r\n",
        "  print('True Positives  : {:.2f}'.format(cm[1][1]))\r\n",
        "  print('True Negatives  : {:.2f}'.format(cm[0][0]))\r\n",
        "  print('False Positives : {:.2f}'.format(cm[0][1]))\r\n",
        "  print('False Negatives : {:.2f}'.format(cm[1][0]))\r\n",
        " "
      ],
      "execution_count": 22,
      "outputs": []
    },
    {
      "cell_type": "code",
      "metadata": {
        "id": "KcTQGXbN0P7E"
      },
      "source": [
        "#onevsallscore(5,kmeans.labels_,kmeans.predict(X_testN))\r\n"
      ],
      "execution_count": 23,
      "outputs": []
    },
    {
      "cell_type": "code",
      "metadata": {
        "id": "EI2u4EIknLuY"
      },
      "source": [
        "def mapMethodScore(n):\r\n",
        "  \r\n",
        "  l0=[]\r\n",
        "  Trainlabel = kmeans.labels_\r\n",
        "  Testlabel = kmeans.predict(X_testN)\r\n",
        "  def lmap(num):\r\n",
        "    if (num in l0):\r\n",
        "      return 0\r\n",
        "    else:\r\n",
        "      return 1\r\n",
        "  \r\n",
        "  for i in range(0, n):\r\n",
        "\r\n",
        "    #print(\"Cluster \", i)\r\n",
        "    c = Y_train[Trainlabel==i]\r\n",
        "    if (len(c[c == 1])<len(c[c == 0])):\r\n",
        "      l0.append(i)\r\n",
        "      #print(\"add to normal \",i)\r\n",
        "    #print(\"intrusion : \",len(c[c == 1]))\r\n",
        "    #print(\"normal : \",len(c[c == 0]))\r\n",
        "\r\n",
        "  ltrain = np.array(list(map(lmap , Trainlabel)))\r\n",
        "  print(\"Accuracy Train: \",accuracy_score(Y_train,ltrain)*100)\r\n",
        "\r\n",
        "  ltest = np.array(list(map(lmap , Testlabel)))\r\n",
        "\r\n",
        "  print(\"Accuracy Test: \",accuracy_score(Y_test,ltest)*100)\r\n",
        "  print(\"Test set precision : {:.4f}\".format(precision_score(Y_test,ltest)))\r\n",
        "  print(\"Test set recall    : {:.4f}\".format(recall_score(Y_test,ltest)))\r\n",
        "  print(\"Test set F1-score  : {:.4f}\".format(f1_score(Y_test,ltest)))\r\n",
        "  cm = confusion_matrix(Y_test,ltest,normalize= 'true')\r\n",
        "  print('True Positives  : {:.2f}'.format(cm[1][1]))\r\n",
        "  print('True Negatives  : {:.2f}'.format(cm[0][0]))\r\n",
        "  print('False Positives : {:.2f}'.format(cm[0][1]))\r\n",
        "  print('False Negatives : {:.2f}'.format(cm[1][0]))\r\n",
        "\r\n"
      ],
      "execution_count": 33,
      "outputs": []
    },
    {
      "cell_type": "code",
      "metadata": {
        "id": "ljsenuWT1BDY"
      },
      "source": [
        ""
      ],
      "execution_count": 24,
      "outputs": []
    },
    {
      "cell_type": "code",
      "metadata": {
        "id": "R3aUvD9c1A_f"
      },
      "source": [
        ""
      ],
      "execution_count": 24,
      "outputs": []
    },
    {
      "cell_type": "code",
      "metadata": {
        "id": "6FJrXuQT1A8w"
      },
      "source": [
        ""
      ],
      "execution_count": 24,
      "outputs": []
    },
    {
      "cell_type": "code",
      "metadata": {
        "colab": {
          "base_uri": "https://localhost:8080/",
          "height": 1000
        },
        "id": "kyXSfvayzs8-",
        "outputId": "2b9bdc20-8c8a-4e63-a00c-c82846cab31e"
      },
      "source": [
        "print(\"method 1\\n\\n\")\r\n",
        "loadData()\r\n",
        "#df_train.columns\r\n",
        "#print(df_train.groupby('attack_cat')['attack_cat'].count())\r\n",
        "#balanceClass()\r\n",
        "#print(df_train.groupby('label')['label'].count())\r\n",
        "#addOtherLabel()\r\n",
        "removeDuplicate()\r\n",
        "splitData()\r\n",
        "\r\n",
        "\r\n",
        "X_train, X_test = one_hot_encode(X_train,X_test)\r\n",
        "#X_train,X_test = labelEncoding(X_train,X_test)\r\n",
        "X_train, X_test = scaling(X_train,X_test,StandardScaler())\r\n",
        "X_train,X_test = runPCA(X_train,X_test,15)\r\n",
        "\r\n",
        "K,best_seed = searchKmeans()\r\n",
        "XtoN()\r\n",
        "\r\n",
        "#best_seed = 10000\r\n",
        "#K = 2\r\n",
        "#best_seed = searchSeed(X_trainN,K)\r\n",
        "\r\n",
        "runKmeans(K,best_seed) \r\n",
        "\r\n",
        "#binaryaccuracyScore()\r\n",
        "print(\"One Vs All.........\")\r\n",
        "print(X_testN.shape)\r\n",
        "print(Y_test.shape)\r\n",
        "oneVsAllScore(K,kmeans.labels_,kmeans.predict(X_testN))\r\n",
        "print(\"Map method.........\")\r\n",
        "mapMethodScore(K)\r\n",
        "\r\n",
        "\r\n"
      ],
      "execution_count": 45,
      "outputs": [
        {
          "output_type": "stream",
          "text": [
            "method 1\n",
            "\n",
            "\n",
            "Duplicates train: 67601\n",
            "0\n",
            "Duplicates test: 26387\n",
            "0\n",
            "X_train shape : (107740, 194)\n",
            "X_test shape : (55940, 194)\n",
            "\n",
            "\n",
            " seed= 0 \n",
            "\n",
            "The innertia for : 2 Clusters is: 3838986.462092474\n",
            "The innertia for : 3 Clusters is: 3479871.6735677547\n",
            "The innertia for : 4 Clusters is: 3153086.2738095056\n",
            "The innertia for : 5 Clusters is: 2894456.193600197\n",
            "The innertia for : 6 Clusters is: 2571276.114316198\n",
            "The innertia for : 7 Clusters is: 2283670.037184958\n",
            "The innertia for : 8 Clusters is: 2075700.7617702943\n",
            "The innertia for : 9 Clusters is: 1797928.9081359669\n",
            "\n",
            "\n",
            " seed= 20000 \n",
            "\n",
            "The innertia for : 2 Clusters is: 3838986.462092474\n",
            "The innertia for : 3 Clusters is: 3479871.6735677547\n",
            "The innertia for : 4 Clusters is: 3153027.2434876673\n",
            "The innertia for : 5 Clusters is: 2845235.6980719883\n",
            "The innertia for : 6 Clusters is: 2567505.1045764107\n",
            "The innertia for : 7 Clusters is: 2297503.5399475917\n",
            "The innertia for : 8 Clusters is: 2076834.1526807554\n",
            "The innertia for : 9 Clusters is: 1915564.4711465053\n",
            "\n",
            "\n",
            " seed= 40000 \n",
            "\n",
            "The innertia for : 2 Clusters is: 3838986.462092474\n",
            "The innertia for : 3 Clusters is: 3479871.703079691\n",
            "The innertia for : 4 Clusters is: 3153084.9037190294\n",
            "The innertia for : 5 Clusters is: 2848886.938686909\n",
            "The innertia for : 6 Clusters is: 2575307.2926820703\n",
            "The innertia for : 7 Clusters is: 2291289.5209989315\n",
            "The innertia for : 8 Clusters is: 2013518.3105897978\n",
            "The innertia for : 9 Clusters is: 1797929.5447788592\n",
            "\n",
            "\n",
            " seed= 60000 \n",
            "\n",
            "The innertia for : 2 Clusters is: 3838986.462092474\n",
            "The innertia for : 3 Clusters is: 3479871.6735677547\n",
            "The innertia for : 4 Clusters is: 3153026.533942815\n",
            "The innertia for : 5 Clusters is: 2845236.5825394425\n",
            "The innertia for : 6 Clusters is: 2591296.6800306244\n",
            "The innertia for : 7 Clusters is: 2292422.951707597\n",
            "The innertia for : 8 Clusters is: 2013517.689569999\n",
            "The innertia for : 9 Clusters is: 1851149.9472311868\n",
            "\n",
            "\n",
            " seed= 80000 \n",
            "\n",
            "The innertia for : 2 Clusters is: 3838986.462092474\n",
            "The innertia for : 3 Clusters is: 3479871.6735677547\n",
            "The innertia for : 4 Clusters is: 3153026.960777963\n",
            "The innertia for : 5 Clusters is: 2880216.3483023313\n",
            "The innertia for : 6 Clusters is: 2602486.4635115615\n",
            "The innertia for : 7 Clusters is: 2297518.9881195673\n",
            "The innertia for : 8 Clusters is: 2068117.395780188\n",
            "The innertia for : 9 Clusters is: 1798094.1757919071\n",
            "\n",
            "\n",
            " seed= 100000 \n",
            "\n",
            "The innertia for : 2 Clusters is: 3838986.462092474\n",
            "The innertia for : 3 Clusters is: 3479871.703079691\n",
            "The innertia for : 4 Clusters is: 3200853.8494239063\n",
            "The innertia for : 5 Clusters is: 2875464.331067475\n",
            "The innertia for : 6 Clusters is: 2575309.351032785\n",
            "The innertia for : 7 Clusters is: 2292422.953504545\n",
            "The innertia for : 8 Clusters is: 2013683.2203066251\n",
            "The innertia for : 9 Clusters is: 1846178.8590693532\n",
            "\n",
            "\n",
            " seed= 120000 \n",
            "\n",
            "The innertia for : 2 Clusters is: 3838986.462092474\n",
            "The innertia for : 3 Clusters is: 3479871.681660737\n",
            "The innertia for : 4 Clusters is: 3207035.1773811597\n",
            "The innertia for : 5 Clusters is: 2880192.5061293584\n",
            "The innertia for : 6 Clusters is: 2577208.250361688\n",
            "The innertia for : 7 Clusters is: 2291210.071214443\n",
            "The innertia for : 8 Clusters is: 2103057.1281254794\n",
            "The innertia for : 9 Clusters is: 1798093.9575885022\n",
            "Best K value : 6\n",
            "One Vs All.........\n",
            "(55940, 15)\n",
            "(55940,)\n",
            "0    0.6141173194728049\n",
            "1    0.7706886950064972\n",
            "2    0.49215704473733063\n",
            "3    0.4114070911453499\n",
            "4    0.2609801373677371\n",
            "5    0.5241600148505662\n",
            "Accuracy Train:  77.06886950064971\n",
            "Accuracy Test:  59.48695030389703\n",
            "Test set precision : 0.4893\n",
            "Test set recall    : 0.9718\n",
            "Test set F1-score  : 0.6508\n",
            "True Positives  : 0.97\n",
            "True Negatives  : 0.36\n",
            "False Positives : 0.64\n",
            "False Negatives : 0.03\n",
            "Map method.........\n",
            "Accuracy Train:  87.22108780397252\n",
            "Accuracy Test:  67.75473721844834\n",
            "Test set precision : 0.5484\n",
            "Test set recall    : 0.9639\n",
            "Test set F1-score  : 0.6991\n",
            "True Positives  : 0.96\n",
            "True Negatives  : 0.50\n",
            "False Positives : 0.50\n",
            "False Negatives : 0.04\n"
          ],
          "name": "stdout"
        },
        {
          "output_type": "display_data",
          "data": {
            "image/png": "[encoded data removed]",
            "text/plain": [
              "<Figure size 1152x432 with 1 Axes>"
            ]
          },
          "metadata": {
            "tags": [],
            "needs_background": "light"
          }
        }
      ]
    },
    {
      "cell_type": "code",
      "metadata": {
        "colab": {
          "base_uri": "https://localhost:8080/"
        },
        "id": "hcP6JYJ2Hurw",
        "outputId": "88b32fe2-bbb4-4863-a209-42579fff0324"
      },
      "source": [
        "\r\n",
        "print(\"method 1\\n\\n\")\r\n",
        "loadData()\r\n",
        "#df_train.columns\r\n",
        "#print(df_train.groupby('attack_cat')['attack_cat'].count())\r\n",
        "#balanceClass()\r\n",
        "#print(df_train.groupby('label')['label'].count())\r\n",
        "#addOtherLabel()\r\n",
        "removeDuplicate()\r\n",
        "splitData()\r\n",
        "X_train, X_test = one_hot_encode(X_train,X_test)\r\n",
        "#X_train,X_test = labelEncoding(X_train,X_test)\r\n",
        "X_train, X_test = scaling(X_train,X_test,StandardScaler())\r\n",
        "X_train,X_test = runPCA(X_train,X_test,20)\r\n",
        "#K,best_seed = searchKmeans()\r\n",
        "XtoN()\r\n",
        "\r\n",
        "#best_seed = 20000\r\n",
        "K = 10\r\n",
        "best_seed = searchSeed(X_trainN,K)\r\n",
        "\r\n",
        "runKmeans(K,best_seed) \r\n",
        "\r\n",
        "#binaryaccuracyScore()\r\n",
        "print(\"One Vs All.........\")\r\n",
        "oneVsAllScore(K,kmeans.labels_,kmeans.predict(X_testN))\r\n",
        "print(\"Map method.........\")\r\n",
        "mapMethodScore(K)\r\n",
        "\r\n"
      ],
      "execution_count": 36,
      "outputs": [
        {
          "output_type": "stream",
          "text": [
            "method 1\n",
            "\n",
            "\n",
            "Duplicates train: 67601\n",
            "0\n",
            "Duplicates test: 26387\n",
            "0\n",
            "X_train shape : (107740, 194)\n",
            "X_test shape : (55940, 194)\n",
            "\n",
            "Min inertia :  2157544.310748027\n",
            "Best Seed :  0\n",
            "One Vs All.........\n",
            "0    0.41127714869129384\n",
            "1    0.2664934100612586\n",
            "2    0.5241600148505662\n",
            "3    0.6140709114534991\n",
            "4    0.5175515129014294\n",
            "5    0.7602283274549843\n",
            "6    0.5236866530536477\n",
            "7    0.4922127343604975\n",
            "8    0.5188416558381288\n",
            "9    0.5184982364952664\n",
            "Accuracy Train:  76.02283274549842\n",
            "Accuracy Test:  58.84697890597068\n",
            "Test set precision : 0.4854\n",
            "Test set recall    : 0.9815\n",
            "Test set F1-score  : 0.6495\n",
            "True Positives  : 0.98\n",
            "True Negatives  : 0.34\n",
            "False Positives : 0.66\n",
            "False Negatives : 0.02\n",
            "Map method.........\n",
            "Accuracy Train:  86.75979209207351\n",
            "Accuracy Test:  67.85663210582767\n",
            "Test set precision : 0.5493\n",
            "Test set recall    : 0.9623\n",
            "Test set F1-score  : 0.6994\n",
            "True Positives  : 0.96\n",
            "True Negatives  : 0.50\n",
            "False Positives : 0.50\n",
            "False Negatives : 0.04\n"
          ],
          "name": "stdout"
        }
      ]
    },
    {
      "cell_type": "code",
      "metadata": {
        "colab": {
          "base_uri": "https://localhost:8080/"
        },
        "id": "NtBJCJ88aKBb",
        "outputId": "1915bdc4-45b1-42fa-a9fc-5683522d53ef"
      },
      "source": [
        "print(\"method 1\\n\\n\")\r\n",
        "loadData()\r\n",
        "#df_train.columns\r\n",
        "#print(df_train.groupby('attack_cat')['attack_cat'].count())\r\n",
        "balanceClass()\r\n",
        "#print(df_train.groupby('label')['label'].count())\r\n",
        "addOtherLabel()\r\n",
        "removeDuplicate()\r\n",
        "splitData()\r\n",
        "\r\n",
        "\r\n",
        "X_train, X_test = one_hot_encode(X_train,X_test)\r\n",
        "#X_train,X_test = labelEncoding(X_train,X_test)\r\n",
        "X_train, X_test = scaling(X_train,X_test,StandardScaler())\r\n",
        "X_train,X_test = runPCA(X_train,X_test,30)\r\n",
        "#K,best_seed = searchKmeans()\r\n",
        "XtoN()\r\n",
        "\r\n",
        "#best_seed = 10000\r\n",
        "K = 10\r\n",
        "best_seed = searchSeed(X_trainN,K)\r\n",
        "\r\n",
        "runKmeans(K,best_seed) \r\n",
        "\r\n",
        "#binaryaccuracyScore()\r\n",
        "print(\"One Vs All.........\")\r\n",
        "print(X_testN.shape)\r\n",
        "print(Y_test.shape)\r\n",
        "oneVsAllScore(K,kmeans.labels_,kmeans.predict(X_testN))\r\n",
        "print(\"Map method.........\")\r\n",
        "mapMethodScore(K)\r\n"
      ],
      "execution_count": 37,
      "outputs": [
        {
          "output_type": "stream",
          "text": [
            "method 1\n",
            "\n",
            "\n",
            "Duplicates train: 30471\n",
            "0\n",
            "Duplicates test: 26611\n",
            "0\n",
            "X_train shape : (81529, 65)\n",
            "X_test shape : (55716, 65)\n",
            "\n",
            "Min inertia :  2307276.229375544\n",
            "Best Seed :  0\n",
            "One Vs All.........\n",
            "(55716, 30)\n",
            "(55716,)\n",
            "0    0.2958456500141054\n",
            "1    0.31850016558525185\n",
            "2    0.49299022433735235\n",
            "3    0.37118080682947174\n",
            "4    0.3488819929104981\n",
            "5    0.37217431834071313\n",
            "6    0.6440530363428963\n",
            "7    0.36788136736621324\n",
            "8    0.33377080548025856\n",
            "9    0.3630364655521348\n",
            "Accuracy Train:  64.40530363428964\n",
            "Accuracy Test:  56.213654964462634\n",
            "Test set precision : 0.4682\n",
            "Test set recall    : 0.9860\n",
            "Test set F1-score  : 0.6349\n",
            "True Positives  : 0.99\n",
            "True Negatives  : 0.30\n",
            "False Positives : 0.70\n",
            "False Negatives : 0.01\n",
            "Map method.........\n",
            "Accuracy Train:  79.4122336837199\n",
            "Accuracy Test:  65.25414602627612\n",
            "Test set precision : 0.5273\n",
            "Test set recall    : 0.9666\n",
            "Test set F1-score  : 0.6824\n",
            "True Positives  : 0.97\n",
            "True Negatives  : 0.46\n",
            "False Positives : 0.54\n",
            "False Negatives : 0.03\n"
          ],
          "name": "stdout"
        }
      ]
    }
  ]
}