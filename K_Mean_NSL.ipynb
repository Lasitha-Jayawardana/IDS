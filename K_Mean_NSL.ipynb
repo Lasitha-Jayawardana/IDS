{
  "nbformat": 4,
  "nbformat_minor": 0,
  "metadata": {
    "kernelspec": {
      "display_name": "Python 3",
      "language": "python",
      "name": "python3"
    },
    "language_info": {
      "codemirror_mode": {
        "name": "ipython",
        "version": 3
      },
      "file_extension": ".py",
      "mimetype": "text/x-python",
      "name": "python",
      "nbconvert_exporter": "python",
      "pygments_lexer": "ipython3",
      "version": "3.8.1"
    },
    "colab": {
      "name": "K-Mean_NSL.ipynb",
      "provenance": [],
      "toc_visible": true,
      "include_colab_link": true
    }
  },
  "cells": [
    {
      "cell_type": "markdown",
      "metadata": {
        "id": "view-in-github",
        "colab_type": "text"
      },
      "source": [
        "<a href=\"https://colab.research.google.com/github/Lasitha-Jayawardana/IDS/blob/main/K_Mean_NSL.ipynb\" target=\"_parent\"><img src=\"https://colab.research.google.com/assets/colab-badge.svg\" alt=\"Open In Colab\"/></a>"
      ]
    },
    {
      "cell_type": "code",
      "metadata": {
        "id": "UsUwcSHQ-nqN"
      },
      "source": [
        "import numpy as np\n",
        "import pandas as pd\n",
        "\n",
        "import matplotlib.pyplot as plt\n",
        "from sklearn.decomposition import PCA\n",
        "import seaborn as sns\n",
        "from sklearn.model_selection import train_test_split\n",
        "from sklearn.preprocessing import StandardScaler\n",
        "from sklearn.preprocessing import MinMaxScaler\n",
        "from sklearn.preprocessing import OneHotEncoder\n",
        "from sklearn.preprocessing import LabelEncoder\n",
        "from sklearn.compose import make_column_transformer\n",
        "from sklearn.pipeline import make_pipeline\n",
        "from sklearn.model_selection import cross_val_score\n",
        "from sklearn.metrics import confusion_matrix\n",
        "from sklearn.metrics import classification_report\n",
        "from sklearn.metrics import accuracy_score\n",
        "from sklearn.model_selection import GridSearchCV\n",
        "import math\n",
        "from sklearn.cluster import KMeans\n",
        "# To change scientific numbers to float\n",
        "np.set_printoptions(formatter={'float_kind':'{:f}'.format})\n"
      ],
      "execution_count": null,
      "outputs": []
    },
    {
      "cell_type": "markdown",
      "metadata": {
        "id": "U2lW62Nt6oyW"
      },
      "source": [
        ""
      ]
    },
    {
      "cell_type": "code",
      "metadata": {
        "id": "AqBruIZY-93X"
      },
      "source": [
        "#from google.colab import drive\n",
        "#drive.mount('/content/drive')"
      ],
      "execution_count": null,
      "outputs": []
    },
    {
      "cell_type": "markdown",
      "metadata": {
        "id": "Z_B1ELkE-nqO"
      },
      "source": [
        "# Loading the Raw Data into Python"
      ]
    },
    {
      "cell_type": "code",
      "metadata": {
        "colab": {
          "base_uri": "https://localhost:8080/"
        },
        "id": "br4smsEw-nqO",
        "outputId": "aa71d44d-6dea-4d0d-dcc5-c7ce581269f8"
      },
      "source": [
        "# Loading the data\n",
        "train_data = pd.read_csv('/content/drive/MyDrive/Colab Notebooks/IDS Project/NSL_Train.csv')\n",
        "test_data = pd.read_csv('/content/drive/MyDrive/Colab Notebooks/IDS Project/NSL_Test.csv')\n",
        "\n",
        "# print the shape\n",
        "print(train_data.shape)\n",
        "print(test_data.shape)\n",
        "\n",
        "train_data.drop(['id'], axis = 'columns' , inplace = True)\n",
        "test_data.drop(['id'], axis = 'columns' , inplace = True)\n",
        "#runs the first 5 rows\n",
        "#train_data.head()"
      ],
      "execution_count": null,
      "outputs": [
        {
          "output_type": "stream",
          "text": [
            "(125973, 43)\n",
            "(22544, 43)\n"
          ],
          "name": "stdout"
        }
      ]
    },
    {
      "cell_type": "markdown",
      "metadata": {
        "id": "hcnH68RI-nqX"
      },
      "source": [
        "# Data Preprocessing ¶"
      ]
    },
    {
      "cell_type": "code",
      "metadata": {
        "id": "LZ_du9Mvtkr-"
      },
      "source": [
        "#train_data.info()"
      ],
      "execution_count": null,
      "outputs": []
    },
    {
      "cell_type": "code",
      "metadata": {
        "id": "922iOUSm-nqX"
      },
      "source": [
        "#convert object data to categorical\n",
        "train_data[['protocol_type', 'service', 'flag','class']]= train_data[['protocol_type', 'service', 'flag','class']].apply(lambda x: x.astype('category'))\n",
        "test_data[['protocol_type', 'service', 'flag','class']]= test_data[['protocol_type', 'service', 'flag','class']].apply(lambda x: x.astype('category'))\n",
        "\n",
        "#train_data.info()\n",
        "def checknull():\n",
        "  # Checking for null values\n",
        "  print(train_data.isnull().sum())\n",
        "  print(test_data.isnull().sum())"
      ],
      "execution_count": null,
      "outputs": []
    },
    {
      "cell_type": "code",
      "metadata": {
        "id": "gthtcYHA-nqY"
      },
      "source": [
        "\n",
        "# select categorical column and count unique values \n",
        "def showCatColumnDetails():\n",
        "  \n",
        "  for column in train_data.select_dtypes('category'):\n",
        "    unique_vals = np.unique(train_data[column])\n",
        "    nr_values = len(unique_vals)\n",
        "    print('{} :{}'.format(column, nr_values))\n",
        "  print(\".....................protocol_type.........................\\n\")\n",
        "  print(train_data['protocol_type'].describe())\n",
        "  print(\"\\n\\n.....................service.........................\\n\")\n",
        "  print(train_data['service'].describe())\n",
        "  print(\"\\n\\n......................flag........................\\n\")\n",
        "  print(train_data['flag'].describe())"
      ],
      "execution_count": null,
      "outputs": []
    },
    {
      "cell_type": "code",
      "metadata": {
        "id": "KBNl-PvUDWnx"
      },
      "source": [
        "#train_data.columns"
      ],
      "execution_count": null,
      "outputs": []
    },
    {
      "cell_type": "code",
      "metadata": {
        "id": "TYUyJlWQKV8_"
      },
      "source": [
        "# Looping through all the features by our y variable - see if there is relationship\n",
        "def showCatGraph():\n",
        "\n",
        "  features = ['protocol_type', 'service', 'flag', 'class']\n",
        "  for f in features:\n",
        "      plt.figure(figsize=(12,4)) # this creates a figure 8 inch wide, 4 inch high\n",
        "\n",
        "      sns.countplot(x = f, data = train_data, palette = 'Set3',order = train_data[f].value_counts().iloc[:20].index)\n",
        "      plt.xticks(rotation=45)\n",
        "      plt.show()\n",
        "    "
      ],
      "execution_count": null,
      "outputs": []
    },
    {
      "cell_type": "code",
      "metadata": {
        "id": "FYSFVxeRa_si"
      },
      "source": [
        "train_data['class'] = train_data['class'].map( {'normal':0, 'anomaly':1} )\r\n",
        "test_data['class'] = test_data['class'].map( {'normal':0, 'anomaly':1} )"
      ],
      "execution_count": null,
      "outputs": []
    },
    {
      "cell_type": "code",
      "metadata": {
        "id": "4zeQAf3x14eR"
      },
      "source": [
        "#train_data['service']"
      ],
      "execution_count": null,
      "outputs": []
    },
    {
      "cell_type": "code",
      "metadata": {
        "id": "bfXoSUjZzc-G"
      },
      "source": [
        "def addOtherLabel():\r\n",
        "  otherlabel = 'Other_service'\r\n",
        "  others1 = train_data['service'].value_counts().index[30:]\r\n",
        "  # apply new category label\r\n",
        "  train_data['service'] = train_data['service'].cat.add_categories([otherlabel])\r\n",
        "  train_data['service'] = train_data['service'].replace(others1, otherlabel)\r\n",
        "\r\n",
        "  train_data['service'].replace({'pop_3':'Other_service','sunrpc':'Other_service',\r\n",
        "                              'link':'Other_service','name':'Other_service','echo':'Other_service',\r\n",
        "                              'netbios_ns':'Other_service'}, inplace = True)\r\n",
        "\r\n",
        "  others1 = test_data['service'].value_counts().index[30:]\r\n",
        "  # apply new category label\r\n",
        "  test_data['service'] = test_data['service'].cat.add_categories([otherlabel])\r\n",
        "  test_data['service'] = test_data['service'].replace(others1, otherlabel)\r\n",
        "\r\n",
        "  test_data['service'].replace({'pop_3':'Other_service','sunrpc':'Other_service',\r\n",
        "                              'link':'Other_service','name':'Other_service','echo':'Other_service',\r\n",
        "                              'netbios_ns':'Other_service'}, inplace = True)\r\n"
      ],
      "execution_count": null,
      "outputs": []
    },
    {
      "cell_type": "code",
      "metadata": {
        "id": "xASlc1VE22Yg"
      },
      "source": [
        "#addOtherLabel()"
      ],
      "execution_count": null,
      "outputs": []
    },
    {
      "cell_type": "code",
      "metadata": {
        "id": "HPGw2BULa_cN"
      },
      "source": [
        "def removeDuplicate():\r\n",
        "  print('Duplicates train:',train_data.duplicated().sum())\r\n",
        "  train_data.drop_duplicates(keep='first',inplace=True)\r\n",
        "  print(train_data.duplicated().sum())\r\n",
        "  print('Duplicates test:',test_data.duplicated().sum())\r\n",
        "  test_data.drop_duplicates(keep='first',inplace=True)\r\n",
        "  print(test_data.duplicated().sum())\r\n",
        "\r\n",
        "  train_data.reset_index(drop=True,inplace=True)\r\n",
        "  test_data.reset_index(drop=True,inplace=True)"
      ],
      "execution_count": null,
      "outputs": []
    },
    {
      "cell_type": "code",
      "metadata": {
        "colab": {
          "base_uri": "https://localhost:8080/"
        },
        "id": "lovbWd96Xqme",
        "outputId": "b6e91cc9-8f8a-46e3-d459-70cfbc748827"
      },
      "source": [
        "removeDuplicate()"
      ],
      "execution_count": null,
      "outputs": [
        {
          "output_type": "stream",
          "text": [
            "Duplicates train: 9\n",
            "0\n",
            "Duplicates test: 3\n",
            "0\n"
          ],
          "name": "stdout"
        }
      ]
    },
    {
      "cell_type": "code",
      "metadata": {
        "colab": {
          "base_uri": "https://localhost:8080/"
        },
        "id": "n15b54rlb3DO",
        "outputId": "b1e7f951-6727-45a5-98cf-13257ffc9e95"
      },
      "source": [
        "limit = train_data.shape[1]-1\r\n",
        "    \r\n",
        "X_train = train_data.iloc[:,0:limit] # train set features\r\n",
        "Y_train = train_data.iloc[:,limit]\r\n",
        "\r\n",
        "X_test = test_data.iloc[:,0:limit] # test set features\r\n",
        "Y_test = test_data.iloc[:,limit]\r\n",
        "\r\n",
        "print('Training X   :',X_train.shape)\r\n",
        "print('Training_Y   :',Y_train.shape)\r\n",
        "print('Test_X       :',X_test.shape)\r\n",
        "print('Test_Y       :',Y_test.shape)"
      ],
      "execution_count": null,
      "outputs": [
        {
          "output_type": "stream",
          "text": [
            "Training X   : (125964, 41)\n",
            "Training_Y   : (125964,)\n",
            "Test_X       : (22541, 41)\n",
            "Test_Y       : (22541,)\n"
          ],
          "name": "stdout"
        }
      ]
    },
    {
      "cell_type": "code",
      "metadata": {
        "colab": {
          "base_uri": "https://localhost:8080/"
        },
        "id": "x1mw0kSNZ0R2",
        "outputId": "f5902238-a3b5-4f91-dfe1-61d159f8970c"
      },
      "source": [
        "def one_hot_encode(X_train,X_test):# Making categorical variables into numeric representation by one- hot encoding\r\n",
        "    \r\n",
        "    categorical_cols = ['protocol_type','flag','service']\r\n",
        "\r\n",
        "    # Training dataset one hot encoding\r\n",
        "    ohe = OneHotEncoder(handle_unknown = 'ignore')\r\n",
        "    ohe.fit(X_train[categorical_cols])\r\n",
        "    array_hot_encoded1 = ohe.transform(X_train[categorical_cols]).toarray()\r\n",
        "\r\n",
        "    data_hot_encoded1 = pd.DataFrame(array_hot_encoded1, index=X_train.index,columns=ohe.get_feature_names(categorical_cols))\r\n",
        "    X_train = X_train.drop(columns=categorical_cols)\r\n",
        "    X_train = pd.concat([data_hot_encoded1,X_train], axis=1)\r\n",
        "    \r\n",
        "    print('X_train shape :',X_train.shape)\r\n",
        "    \r\n",
        "    # Test dataset one hot encoding\r\n",
        "    array_hot_encoded2 = ohe.transform(X_test[categorical_cols]).toarray()\r\n",
        "    data_hot_encoded2 = pd.DataFrame(array_hot_encoded2, index=X_test.index,columns=ohe.get_feature_names(categorical_cols))\r\n",
        "    X_test = X_test.drop(columns=categorical_cols)\r\n",
        "    X_test = pd.concat([data_hot_encoded2,X_test], axis=1)\r\n",
        "    \r\n",
        "    print('X_test shape :',X_test.shape)\r\n",
        "    \r\n",
        "    return X_train, X_test\r\n",
        "\r\n",
        "\r\n",
        "\r\n",
        "X_train, X_test = one_hot_encode(X_train,X_test)\r\n"
      ],
      "execution_count": null,
      "outputs": [
        {
          "output_type": "stream",
          "text": [
            "X_train shape : (125964, 122)\n",
            "X_test shape : (22541, 122)\n"
          ],
          "name": "stdout"
        }
      ]
    },
    {
      "cell_type": "code",
      "metadata": {
        "id": "SjUDtx_Zzg8X"
      },
      "source": [
        "#X_train"
      ],
      "execution_count": null,
      "outputs": []
    },
    {
      "cell_type": "code",
      "metadata": {
        "id": "ANKbxXYzzSDv"
      },
      "source": [
        "def featureScalling(X_train,X_test):\n",
        "  scaler = MinMaxScaler()\n",
        "  X_train = pd.DataFrame(scaler.fit_transform(X_train),columns=X_train.columns)\n",
        "  X_test = pd.DataFrame(scaler.transform(X_test),columns=X_test.columns)\n",
        "  return X_train,X_test"
      ],
      "execution_count": null,
      "outputs": []
    },
    {
      "cell_type": "code",
      "metadata": {
        "id": "f74xuZV2YNqY"
      },
      "source": [
        "X_train,X_test = featureScalling(X_train,X_test)"
      ],
      "execution_count": null,
      "outputs": []
    },
    {
      "cell_type": "code",
      "metadata": {
        "id": "o2uFNFIvMcnJ"
      },
      "source": [
        "#X_train.describe()"
      ],
      "execution_count": null,
      "outputs": []
    },
    {
      "cell_type": "code",
      "metadata": {
        "id": "akAPe8MRDQuT"
      },
      "source": [
        "# Trying with Dimentionality reduction and then Kmeans\n",
        "\n",
        "def showVariance(X):\n",
        "  n_components = X.shape[1]\n",
        "\n",
        "  # Running PCA with all components\n",
        "  pca = PCA(n_components=n_components,random_state=456)\n",
        "  X_r = pca.fit(X).transform(X)\n",
        "\n",
        "\n",
        "  # Calculating the 95% Variance\n",
        "  total_variance = sum(pca.explained_variance_)\n",
        "  print(\"Total Variance in our dataset is: \", total_variance)\n",
        "  var_98 = total_variance * 0.99\n",
        "  print(\"The 98% variance we want to have is: \", var_98)\n",
        "  print(\"\")\n",
        "\n",
        "  # Creating a df with the components and explained variance\n",
        "  a = zip(range(0,n_components), pca.explained_variance_)\n",
        "  a = pd.DataFrame(a, columns=[\"PCA Comp\", \"Explained Variance\"])\n",
        "\n",
        "  # Trying to hit 95%\n",
        "  print(\"Variance explain with 30 n_compononets: \", sum(a[\"Explained Variance\"][0:30]))\n",
        "  print(\"Variance explain with 35 n_compononets: \", sum(a[\"Explained Variance\"][0:35]))\n",
        "  print(\"Variance explain with 40 n_compononets: \", sum(a[\"Explained Variance\"][0:40]))\n",
        "  print(\"Variance explain with 41 n_compononets: \", sum(a[\"Explained Variance\"][0:41]))\n",
        "  print(\"Variance explain with 50 n_compononets: \", sum(a[\"Explained Variance\"][0:50]))\n",
        "  print(\"Variance explain with 53 n_compononets: \", sum(a[\"Explained Variance\"][0:53]))\n",
        "  print(\"Variance explain with 55 n_compononets: \", sum(a[\"Explained Variance\"][0:55]))\n",
        "  print(\"Variance explain with 60 n_compononets: \", sum(a[\"Explained Variance\"][0:60]))\n",
        "  print(\"Variance explain with 65 n_compononets: \", sum(a[\"Explained Variance\"][0:65]))\n",
        "  print(\"Variance explain with 70 n_compononets: \", sum(a[\"Explained Variance\"][0:70]))\n",
        "  print(\"Variance explain with 75 n_compononets: \", sum(a[\"Explained Variance\"][0:75]))\n",
        "  print(\"Variance explain with 80 n_compononets: \", sum(a[\"Explained Variance\"][0:80]))\n",
        "  return pca.explained_variance_ratio_\n",
        "  "
      ],
      "execution_count": null,
      "outputs": []
    },
    {
      "cell_type": "code",
      "metadata": {
        "colab": {
          "base_uri": "https://localhost:8080/"
        },
        "id": "9ldA_Z7mYeaj",
        "outputId": "36cfc3a2-71b9-43cf-8cfb-69265d01a0be"
      },
      "source": [
        "vr = showVariance(X_train)"
      ],
      "execution_count": null,
      "outputs": [
        {
          "output_type": "stream",
          "text": [
            "Total Variance in our dataset is:  4.239846183908404\n",
            "The 98% variance we want to have is:  4.19744772206932\n",
            "\n",
            "Variance explain with 30 n_compononets:  4.040085672999156\n",
            "Variance explain with 35 n_compononets:  4.068236611415323\n",
            "Variance explain with 40 n_compononets:  4.094027677077478\n",
            "Variance explain with 41 n_compononets:  4.098895644899186\n",
            "Variance explain with 50 n_compononets:  4.138733744028214\n",
            "Variance explain with 53 n_compononets:  4.150632271614262\n",
            "Variance explain with 55 n_compononets:  4.158222551402169\n",
            "Variance explain with 60 n_compononets:  4.1762126849703645\n",
            "Variance explain with 65 n_compononets:  4.1925286811815505\n",
            "Variance explain with 70 n_compononets:  4.206577570035951\n",
            "Variance explain with 75 n_compononets:  4.218197561367648\n",
            "Variance explain with 80 n_compononets:  4.2271203280268\n"
          ],
          "name": "stdout"
        }
      ]
    },
    {
      "cell_type": "code",
      "metadata": {
        "id": "N9Z_9gc9DpWh"
      },
      "source": [
        "# Plotting the Data\n",
        "def plotVariance(vr,k):\n",
        "  plt.figure(1, figsize=(14, 8))\n",
        "  plt.plot(vr, linewidth=2, c=\"r\")\n",
        "  plt.xlabel('n_components')\n",
        "  plt.ylabel('explained_ratio_')\n",
        "\n",
        "  # Plotting line with 98% e.v.\n",
        "  plt.axvline(k,linestyle=':', label='n_components - 98% explained', c =\"blue\")\n",
        "  plt.legend(prop=dict(size=12))\n",
        "\n",
        "  # adding arrow\n",
        "  plt.annotate('55 eigenvectors used to explain 98% variance', xy=(k, vr[k]), \n",
        "              xytext=(58, vr[10]),\n",
        "              arrowprops=dict(facecolor='blue', shrink=0.05))\n",
        "\n",
        "  plt.show()"
      ],
      "execution_count": null,
      "outputs": []
    },
    {
      "cell_type": "code",
      "metadata": {
        "id": "l-_pvArLY3dd"
      },
      "source": [
        "kPCA=5\r\n",
        "#plotVariance(vr,kPCA)"
      ],
      "execution_count": null,
      "outputs": []
    },
    {
      "cell_type": "code",
      "metadata": {
        "id": "y1Zn07yyRC2_"
      },
      "source": [
        "def runPCA(X_train,X_test):\r\n",
        "  pca = PCA(n_components=kPCA, random_state = 453)\r\n",
        "  X_rtrain = pca.fit(X_train).transform(X_train)\r\n",
        "  X_rtest  = pca.transform(X_test)\r\n",
        "  return X_rtrain,X_rtest"
      ],
      "execution_count": null,
      "outputs": []
    },
    {
      "cell_type": "code",
      "metadata": {
        "id": "DRsB9AeYZAPo"
      },
      "source": [
        "X_rtrain,X_rtest = runPCA(X_train,X_test)"
      ],
      "execution_count": null,
      "outputs": []
    },
    {
      "cell_type": "markdown",
      "metadata": {
        "id": "R6XX7M_0ZiN2"
      },
      "source": [
        "# K-means Clustering"
      ]
    },
    {
      "cell_type": "code",
      "metadata": {
        "id": "MsI0bNh8Mwjx"
      },
      "source": [
        "# Running K means with multible seeds\r\n",
        "no_of_clusters = 2\r\n",
        "def runKmeans(X_train):\r\n",
        "\r\n",
        "  best_seed = None\r\n",
        "\r\n",
        "\r\n",
        "  min_inertia=0.0\r\n",
        "  \r\n",
        "  seeds = [0,9500,10000,10500,11000,15000,18000 , 20000, 40000, 60000, 80000,90000, 120000]\r\n",
        "  for seed in seeds:\r\n",
        "\r\n",
        "    \r\n",
        "    print('\\n seed= {} \\n'.format(seed))\r\n",
        "        \r\n",
        "    kmeans = KMeans(n_clusters=no_of_clusters, init='k-means++',random_state=seed)\r\n",
        "    kmeans = kmeans.fit(X_train)\r\n",
        "    \r\n",
        "    inertia = kmeans.inertia_\r\n",
        "    print(\"The innertia for : 2 Clusters is:\", inertia) \r\n",
        "    # if current measurement of heterogeneity is lower than previously seen,\r\n",
        "    # update the minimum record of heterogeneity.\r\n",
        "    if min_inertia == 0 :\r\n",
        "        min_inertia = inertia\r\n",
        "        best_seed = seed\r\n",
        "    if inertia < min_inertia:\r\n",
        "        min_inertia = inertia\r\n",
        "        best_seed = seed\r\n",
        "        \r\n",
        "\r\n",
        "  print(\"/nMin inertia : \", min_inertia)\r\n",
        "  print(\"Best Seed : \",best_seed)\r\n",
        "  return best_seed\r\n",
        " "
      ],
      "execution_count": null,
      "outputs": []
    },
    {
      "cell_type": "code",
      "metadata": {
        "colab": {
          "base_uri": "https://localhost:8080/"
        },
        "id": "Rb1h0Qkjaf8j",
        "outputId": "202908a5-1612-4a35-c3f6-f23b6cb26ee2"
      },
      "source": [
        "#best_seed = runKmeans(X_train)\r\n",
        "best_seed = runKmeans(X_rtrain)"
      ],
      "execution_count": null,
      "outputs": [
        {
          "output_type": "stream",
          "text": [
            "\n",
            " seed= 0 \n",
            "\n",
            "The innertia for : 2 Clusters is: 214201.7514104742\n",
            "\n",
            " seed= 9500 \n",
            "\n",
            "The innertia for : 2 Clusters is: 214201.7514104742\n",
            "\n",
            " seed= 10000 \n",
            "\n",
            "The innertia for : 2 Clusters is: 214201.7514104742\n",
            "\n",
            " seed= 10500 \n",
            "\n",
            "The innertia for : 2 Clusters is: 214201.7514104742\n",
            "\n",
            " seed= 11000 \n",
            "\n",
            "The innertia for : 2 Clusters is: 214201.7514104742\n",
            "\n",
            " seed= 15000 \n",
            "\n",
            "The innertia for : 2 Clusters is: 214201.7513953969\n",
            "\n",
            " seed= 18000 \n",
            "\n",
            "The innertia for : 2 Clusters is: 214201.7514104742\n",
            "\n",
            " seed= 20000 \n",
            "\n",
            "The innertia for : 2 Clusters is: 214201.7514104742\n",
            "\n",
            " seed= 40000 \n",
            "\n",
            "The innertia for : 2 Clusters is: 214201.7514104742\n",
            "\n",
            " seed= 60000 \n",
            "\n",
            "The innertia for : 2 Clusters is: 214201.7514104742\n",
            "\n",
            " seed= 80000 \n",
            "\n",
            "The innertia for : 2 Clusters is: 214201.7514104742\n",
            "\n",
            " seed= 90000 \n",
            "\n",
            "The innertia for : 2 Clusters is: 214201.7514104742\n",
            "\n",
            " seed= 120000 \n",
            "\n",
            "The innertia for : 2 Clusters is: 214201.7514104742\n",
            "/nMin inertia :  214201.7513953969\n",
            "Best Seed :  15000\n"
          ],
          "name": "stdout"
        }
      ]
    },
    {
      "cell_type": "code",
      "metadata": {
        "id": "_Enhlk2SjjQW"
      },
      "source": [
        "#X_trainN = X_train\r\n",
        "#X_testN = X_test\r\n",
        "X_trainN = X_rtrain\r\n",
        "X_testN = X_rtest"
      ],
      "execution_count": null,
      "outputs": []
    },
    {
      "cell_type": "code",
      "metadata": {
        "colab": {
          "base_uri": "https://localhost:8080/"
        },
        "id": "7tavLWf6phGk",
        "outputId": "75e18477-fadb-41f5-e111-0d1a255bbcf1"
      },
      "source": [
        "X_trainN.shape"
      ],
      "execution_count": null,
      "outputs": [
        {
          "output_type": "execute_result",
          "data": {
            "text/plain": [
              "(125964, 5)"
            ]
          },
          "metadata": {
            "tags": []
          },
          "execution_count": 138
        }
      ]
    },
    {
      "cell_type": "code",
      "metadata": {
        "id": "ukvkAksvZ_hX"
      },
      "source": [
        "# Running K means on K clusters\r\n",
        "kmeans = KMeans(n_clusters=no_of_clusters,init='k-means++', random_state=0)\r\n",
        "kmeans = kmeans.fit(X_trainN)"
      ],
      "execution_count": null,
      "outputs": []
    },
    {
      "cell_type": "code",
      "metadata": {
        "id": "JyyQmB8WlAjG"
      },
      "source": [
        "label0 = 1- kmeans.labels_\r\n",
        "label1 = kmeans.labels_\r\n",
        "test_label1 = kmeans.predict(X_testN)\r\n",
        "test_label0 = 1 - test_label1\r\n"
      ],
      "execution_count": null,
      "outputs": []
    },
    {
      "cell_type": "code",
      "metadata": {
        "id": "NOXRNkWIkD3c"
      },
      "source": [
        "def accuracyScore():\r\n",
        "  print(\"Accuracy Train: \",accuracy_score(Y_train,label0)*100)\r\n",
        "  print(\"Accuracy Train: \",accuracy_score(Y_train,label1)*100)\r\n",
        "  print(\"Accuracy Test: \",accuracy_score(Y_test,test_label0)*100)\r\n",
        "  print(\"Accuracy Test: \",accuracy_score(Y_test,test_label1)*100)"
      ],
      "execution_count": null,
      "outputs": []
    },
    {
      "cell_type": "code",
      "metadata": {
        "colab": {
          "base_uri": "https://localhost:8080/"
        },
        "id": "1IC43XTuvLVy",
        "outputId": "91b5f766-5088-4c34-89c0-cb0439eba43f"
      },
      "source": [
        "accuracyScore()"
      ],
      "execution_count": null,
      "outputs": [
        {
          "output_type": "stream",
          "text": [
            "Accuracy Train:  18.952240322631862\n",
            "Accuracy Train:  81.04775967736813\n",
            "Accuracy Test:  47.06978394924804\n",
            "Accuracy Test:  52.930216050751966\n"
          ],
          "name": "stdout"
        }
      ]
    },
    {
      "cell_type": "markdown",
      "metadata": {
        "id": "HpcdkpbTxEnJ"
      },
      "source": [
        "## Temp\r\n"
      ]
    },
    {
      "cell_type": "code",
      "metadata": {
        "id": "rq1xbViPxB40"
      },
      "source": [
        ""
      ],
      "execution_count": null,
      "outputs": []
    },
    {
      "cell_type": "code",
      "metadata": {
        "id": "X8NJBtbr-nqY"
      },
      "source": [
        "'''# Running K means with multible Ks\n",
        "best_seed = None\n",
        "final_centroids = None\n",
        "final_cluster_assignment = None\n",
        "\n",
        "min_inertia = []\n",
        "X_value = X_train\n",
        "seeds = [0, 20000, 40000, 60000, 80000, 100000, 120000]\n",
        "for seed in seeds:\n",
        "  inertia = []\n",
        "  no_of_clusters = range(2,15)\n",
        "  print('\\n\\n seed= {} \\n'.format(seed))\n",
        "  for f in no_of_clusters:\n",
        "      kmeans = KMeans(n_clusters=f, init='k-means++',random_state=seed)\n",
        "      kmeans = kmeans.fit(X_value)\n",
        "      \n",
        "      u = kmeans.inertia_\n",
        "      inertia.append(u)\n",
        "      print(\"The innertia for :\", f, \"Clusters is:\", u) \n",
        "      # if current measurement of heterogeneity is lower than previously seen,\n",
        "      # update the minimum record of heterogeneity.\n",
        "  if len(min_inertia) == 0 :\n",
        "      min_inertia = inertia\n",
        "      \n",
        "  if min(inertia,default=0) < min(min_inertia,default=0):\n",
        "      min_inertia = inertia\n",
        "      best_seed = seed\n",
        "      final_centroids = kmeans.cluster_centers_\n",
        "      final_cluster_assignment = kmeans.labels_\n",
        "\n",
        "      '''"
      ],
      "execution_count": null,
      "outputs": []
    },
    {
      "cell_type": "code",
      "metadata": {
        "id": "5pmoiLHgh_th"
      },
      "source": [
        "# Creating the screen plot for Intertia - elbow method\n",
        "fig, (ax1) = plt.subplots(1, figsize=(16,6))\n",
        "xx = np.arange(len(seeds))\n",
        "ax1.plot(xx, min_inertia,linewidth=4)\n",
        "ax1.set_xticks(xx)\n",
        "ax1.set_xticklabels(no_of_clusters, rotation='vertical')\n",
        "plt.xlabel('Seed value')\n",
        "plt.ylabel('Inertia Score')\n",
        "plt.title('Inertia Plot per 2 cluster for Seed ')"
      ],
      "execution_count": null,
      "outputs": []
    },
    {
      "cell_type": "code",
      "metadata": {
        "id": "kssc1zvTjeCh"
      },
      "source": [
        "fig, (ax1) = plt.subplots(1, figsize=(16,6))\n",
        "plt.plot(no_of_clusters, min_inertia,linewidth=4)\n",
        "plt.plot([no_of_clusters[0], no_of_clusters[-1]], [min_inertia[0], \n",
        "                        min_inertia[-1]], 'ro-',linewidth=4)\n",
        "plt.show()\n",
        "\n"
      ],
      "execution_count": null,
      "outputs": []
    },
    {
      "cell_type": "code",
      "metadata": {
        "id": "qC_6x8DpmUXu"
      },
      "source": [
        ""
      ],
      "execution_count": null,
      "outputs": []
    },
    {
      "cell_type": "code",
      "metadata": {
        "id": "fQSNZwtqm1Pn"
      },
      "source": [
        "# between-a-point-and-a-line-in-2-d/\n",
        "def calc_distance(x1, y1, a, b, c):\n",
        "  d = abs((a * x1 + b * y1 + c)) / (math.sqrt(a * a + b * b))\n",
        "  return d"
      ],
      "execution_count": null,
      "outputs": []
    },
    {
      "cell_type": "code",
      "metadata": {
        "id": "RVWXUo3Hm4wC"
      },
      "source": [
        "a = inertia[0] - inertia[-1]\n",
        "b = no_of_clusters[-1] - no_of_clusters[0]\n",
        "c1 = no_of_clusters[0] * inertia[-1]\n",
        "c2 = no_of_clusters[-1] * inertia[0]\n",
        "c = c1 - c2"
      ],
      "execution_count": null,
      "outputs": []
    },
    {
      "cell_type": "code",
      "metadata": {
        "id": "ZTpEODznsDuW"
      },
      "source": [
        "r = no_of_clusters[-1]-1\n",
        "r"
      ],
      "execution_count": null,
      "outputs": []
    },
    {
      "cell_type": "code",
      "metadata": {
        "id": "uFVVO2JInbJg"
      },
      "source": [
        "distance_of_points_from_line = []\n",
        "\n",
        "for k in range(int(r)):\n",
        "  distance_of_points_from_line.append(\n",
        "      calc_distance(no_of_clusters[k], inertia[k], a, b, c))\n",
        "  \n",
        "plt.plot(no_of_clusters, distance_of_points_from_line)"
      ],
      "execution_count": null,
      "outputs": []
    },
    {
      "cell_type": "code",
      "metadata": {
        "id": "4GmStTJztuTk"
      },
      "source": [
        "K =no_of_clusters[distance_of_points_from_line.index(max(distance_of_points_from_line))]\n",
        "print(\"Best K value : {}\".format(K))"
      ],
      "execution_count": null,
      "outputs": []
    },
    {
      "cell_type": "code",
      "metadata": {
        "id": "fumrgbWmv-I9"
      },
      "source": [
        "# Running K means on K clusters\n",
        "\n",
        "kmeans = KMeans(n_clusters=K,init='k-means++', random_state=best_seed)\n",
        "kmeans = kmeans.fit(X_value)\n",
        "kmeans.inertia_\n",
        "\n",
        "predictions = kmeans.predict(X_value)\n",
        "\n",
        "\n"
      ],
      "execution_count": null,
      "outputs": []
    },
    {
      "cell_type": "code",
      "metadata": {
        "id": "IP1Csk0bx2_b"
      },
      "source": [
        "# calculating the Counts of the cluster\n",
        "#unique, counts = np.unique(kmeans.labels_, return_counts=True)\n",
        "\n",
        "print(np.bincount(kmeans.labels_))\n"
      ],
      "execution_count": null,
      "outputs": []
    },
    {
      "cell_type": "code",
      "metadata": {
        "id": "getxj_Nf-Ymn"
      },
      "source": [
        "# Running PCA to Visualize the data\n",
        "\n",
        "X = X_value\n",
        "\n",
        "y_num = predictions\n",
        "\n",
        "pca = PCA(n_components=2, random_state = 453)\n",
        "X_r = pca.fit(X).transform(X)\n",
        "\n",
        "target_names = [\"Cluster 0\",\"Cluster 1\",\"Cluster 2\", \"Cluster 3\",\"Cluster 4\",\"Cluster 5\",\"Cluster 6\",\"Cluster 7\"]\n",
        "\n",
        "# Percentage of variance explained for each components\n",
        "print('Explained variance ratio (first two components): %s' % str(pca.explained_variance_ratio_))\n",
        "\n",
        "# Plotting the data\n",
        "plt.figure()\n",
        "plt.figure(figsize=(12,8))\n",
        "colors = ['navy', 'turquoise', 'darkorange', 'red', 'black','blue','green','yellow']\n",
        "lw = 2\n",
        "\n",
        "\n",
        "for color, i, target_name in zip(colors, [0, 1, 2, 3, 4,5,6,7], target_names):\n",
        "    plt.scatter(X_r[y_num == i, 0], X_r[y_num == i, 1], color=color, alpha=.8, lw=lw,label=target_name)\n",
        "    \n",
        "plt.legend(loc='best', shadow=False, scatterpoints=1)\n",
        "plt.legend(bbox_to_anchor=(1.05, 1), loc=2, borderaxespad=0.6)   \n",
        "plt.title('PCA of 2 Items')\n",
        "plt.show()"
      ],
      "execution_count": null,
      "outputs": []
    },
    {
      "cell_type": "code",
      "metadata": {
        "id": "tfzABuW8HAax"
      },
      "source": [
        "# Running PCA again\n",
        "\n",
        "pca = PCA(n_components=40, random_state = 453)\n",
        "X_r = pca.fit(X).transform(X)\n",
        "\n",
        "inertia = []\n",
        "\n",
        "#running Kmeans\n",
        "\n",
        "for f in no_of_clusters:\n",
        "    kmeans = KMeans(n_clusters=f, random_state=best_seed)\n",
        "    kmeans = kmeans.fit(X_r)\n",
        "    u = kmeans.inertia_\n",
        "    inertia.append(u)\n",
        "    print(\"The innertia for :\", f, \"Clusters is:\", u)\n",
        "\n",
        "# Creating the scree plot for Intertia - elbow method\n",
        "fig, (ax1) = plt.subplots(1, figsize=(16,6))\n",
        "xx = np.arange(len(no_of_clusters))\n",
        "ax1.plot(xx, inertia)\n",
        "ax1.set_xticks(xx)\n",
        "ax1.set_xticklabels(no_of_clusters, rotation='vertical')\n",
        "plt.xlabel('n_components Value')\n",
        "plt.ylabel('Inertia Score')\n",
        "plt.title(\"Inertia Plot per k\")"
      ],
      "execution_count": null,
      "outputs": []
    },
    {
      "cell_type": "code",
      "metadata": {
        "id": "4ho3Vc-STkEz"
      },
      "source": [
        "fig, (ax1) = plt.subplots(1, figsize=(16,6))\n",
        "plt.plot(no_of_clusters, inertia,linewidth=4)\n",
        "plt.plot([no_of_clusters[0], no_of_clusters[-1]], [inertia[0], \n",
        "                        inertia[-1]], 'ro-',linewidth=4)\n",
        "plt.show()\n"
      ],
      "execution_count": null,
      "outputs": []
    },
    {
      "cell_type": "code",
      "metadata": {
        "id": "Tj91Y0CITvQw"
      },
      "source": [
        ""
      ],
      "execution_count": null,
      "outputs": []
    },
    {
      "cell_type": "code",
      "metadata": {
        "id": "l6dzaZ9qT5rS"
      },
      "source": [
        "# between-a-point-and-a-line-in-2-d/\n",
        "def calc_distance(x1, y1, a, b, c):\n",
        "  d = abs((a * x1 + b * y1 + c)) / (math.sqrt(a * a + b * b))\n",
        "  return d"
      ],
      "execution_count": null,
      "outputs": []
    },
    {
      "cell_type": "code",
      "metadata": {
        "id": "vTJgMFOiT5rS"
      },
      "source": [
        "a = inertia[0] - inertia[-1]\n",
        "b = no_of_clusters[-1] - no_of_clusters[0]\n",
        "c1 = no_of_clusters[0] * inertia[-1]\n",
        "c2 = no_of_clusters[-1] * inertia[0]\n",
        "c = c1 - c2"
      ],
      "execution_count": null,
      "outputs": []
    },
    {
      "cell_type": "code",
      "metadata": {
        "id": "rz-xWwMNT5rT"
      },
      "source": [
        "r = no_of_clusters[-1]-1\n",
        "r"
      ],
      "execution_count": null,
      "outputs": []
    },
    {
      "cell_type": "code",
      "metadata": {
        "id": "-gDzp3LdT5rU"
      },
      "source": [
        "distance_of_points_from_line = []\n",
        "\n",
        "for k in range(int(r)):\n",
        "  distance_of_points_from_line.append(\n",
        "      calc_distance(no_of_clusters[k], inertia[k], a, b, c))\n",
        "  \n",
        "plt.plot(no_of_clusters, distance_of_points_from_line)"
      ],
      "execution_count": null,
      "outputs": []
    },
    {
      "cell_type": "code",
      "metadata": {
        "id": "rPG70XWeT5rV"
      },
      "source": [
        "K =no_of_clusters[distance_of_points_from_line.index(max(distance_of_points_from_line))]\n",
        "print(\"Best K value : {}\".format(K))"
      ],
      "execution_count": null,
      "outputs": []
    },
    {
      "cell_type": "code",
      "metadata": {
        "id": "mrA9eOM9a41R"
      },
      "source": [
        "# Running PCA with 36 PC\n",
        "\n",
        "# Running Kmeans with 5 Ks\n",
        "kmeans = KMeans(n_clusters=5, random_state=best_seed)\n",
        "kmeans = kmeans.fit(X_r)\n",
        "\n",
        "print(\"Optimized K-mean innertia for cluster 5 :\", kmeans.inertia_)"
      ],
      "execution_count": null,
      "outputs": []
    },
    {
      "cell_type": "code",
      "metadata": {
        "id": "uvU3TD1ETOGE"
      },
      "source": [
        "# Running PCA to Visualize the data\n",
        "\n",
        "\n",
        "pca = PCA(n_components=2, random_state = 453)\n",
        "X_r = pca.fit(X_r).transform(X_r)\n",
        "\n",
        "target_names = [\"Cluster 0\",\"Cluster 1\",\"Cluster 2\", \"Cluster 3\",\"Cluster 4\"]\n",
        "\n",
        "# Percentage of variance explained for each components\n",
        "print('Explained variance ratio (PCA 2 components): %s' % str(sum(pca.explained_variance_ratio_)))\n",
        "\n",
        "# Plotting the data\n",
        "plt.figure()\n",
        "plt.figure(figsize=(12,8))\n",
        "colors = ['navy', 'turquoise', 'darkorange', 'red', 'black']\n",
        "lw = 2\n",
        "\n",
        "\n",
        "for color, i, target_name in zip(colors, [0, 1, 2, 3, 4], target_names):\n",
        "    plt.scatter(X_r[y_num == i, 0], X_r[y_num == i, 1], color=color, alpha=.8, lw=lw,label=target_name)\n",
        "    \n",
        "plt.legend(loc='best', shadow=False, scatterpoints=1)\n",
        "plt.legend(bbox_to_anchor=(1.05, 1), loc=2, borderaxespad=0.6)   \n",
        "plt.title('PCA of 2 Items')\n",
        "plt.show()"
      ],
      "execution_count": null,
      "outputs": []
    },
    {
      "cell_type": "code",
      "metadata": {
        "id": "lLWFAbGZTghE"
      },
      "source": [
        ""
      ],
      "execution_count": null,
      "outputs": []
    }
  ]
}